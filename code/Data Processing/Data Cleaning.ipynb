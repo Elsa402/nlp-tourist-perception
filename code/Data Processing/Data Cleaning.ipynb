{
 "cells": [
  {
   "cell_type": "markdown",
   "id": "f3039cc7",
   "metadata": {},
   "source": [
    "## 提取到txt文件"
   ]
  },
  {
   "cell_type": "code",
   "execution_count": 17,
   "id": "7a971a6a",
   "metadata": {},
   "outputs": [
    {
     "name": "stdout",
     "output_type": "stream",
     "text": [
      "✅ 简介内容已成功写入 ubpa_summary.txt，且已去除所有 </h1> 标签。\n"
     ]
    }
   ],
   "source": [
    "import csv\n",
    "import os\n",
    "\n",
    "# 使用当前工作目录（兼容Jupyter和交互式环境）\n",
    "script_dir = os.getcwd()\n",
    "\n",
    "# 输入CSV路径\n",
    "csv_path = os.path.join(script_dir, 'ubpa_all_pages.csv')\n",
    "\n",
    "# 输出TXT路径\n",
    "txt_path = os.path.join(script_dir, 'ubpa_summary.txt')\n",
    "\n",
    "# 读取CSV并写入TXT，同时去除简介中的所有 '</h1>' 标签\n",
    "with open(csv_path, 'r', encoding='utf-8') as csv_file, \\\n",
    "     open(txt_path, 'w', encoding='utf-8') as txt_file:\n",
    "\n",
    "    reader = csv.DictReader(csv_file)\n",
    "\n",
    "    for row in reader:\n",
    "        summary = row['简介'].strip()\n",
    "        # 去除所有 '</h1>' 标签\n",
    "        summary_clean = summary.replace('</h1>', '')\n",
    "        txt_file.write(f'{summary_clean}\\n')\n",
    "\n",
    "print('✅ 简介内容已成功写入 ubpa_summary.txt，且已去除所有 </h1> 标签。')\n"
   ]
  },
  {
   "cell_type": "markdown",
   "id": "b3d1a7fc",
   "metadata": {},
   "source": [
    "## 内容处理\n",
    "1. 删除空白/重复内容\n",
    "2. 去掉标点符号/表情\n",
    "3. 人为筛选不合格信息"
   ]
  },
  {
   "cell_type": "code",
   "execution_count": null,
   "id": "a1d2bc26",
   "metadata": {},
   "outputs": [],
   "source": [
    "import os\n",
    "import re\n",
    "\n",
    "# 定义文件路径\n",
    "#file_path = r\"C:\\Users\\ASUS\\Desktop\\python folder\\基于社交媒体数据的城市公园景感评价\\数据\\基于社交媒体数据的城市公园景感评价_课程数据\\【任务17】基于社交媒体数据的城市公园景感评价\\关卡2\\利用python清洗数据\\【测试文件】抽取出来的300条数据集.txt\"\n",
    "file_path = r\"C:\\Users\\ASUS\\Desktop\\python folder\\基于社交媒体数据的城市公园景感评价\\数据\\基于社交媒体数据的城市公园景感评价_课程数据\\【任务17】基于社交媒体数据的城市公园景感评价\\关卡4\\文本分割\\草稿\\tss_out.txt\"\n",
    "temp_file_path = file_path + \".tmp\"\n",
    "\n",
    "# 表情符号的正则表达式\n",
    "emoji_pattern = re.compile(\n",
    "    \"[\"\n",
    "    \"\\U0001F600-\\U0001F64F\"  # 表情符号\n",
    "    \"\\U0001F300-\\U0001F5FF\"  # 符号和象形文字\n",
    "    \"\\U0001F680-\\U0001F6FF\"  # 运输和地图符号\n",
    "    \"\\U0001F1E0-\\U0001F1FF\"  # 国旗（iOS）\n",
    "    \"]+\", flags=re.UNICODE)\n",
    "\n",
    "# 读取文件内容\n",
    "with open(file_path, 'r', encoding=\"utf-8\") as fp:\n",
    "    lines = fp.readlines()\n",
    "\n",
    "# 去除空格、表情和空行\n",
    "with open(temp_file_path, 'w', encoding=\"utf-8\") as fp:\n",
    "    for line in lines:\n",
    "        # 去除空格\n",
    "        line = line.replace(' ', '')\n",
    "        # 去除表情\n",
    "        line = emoji_pattern.sub(r'', line)\n",
    "        # 去除空行\n",
    "        if line.strip():  # 仅在行不为空时写入\n",
    "            fp.write(line)\n",
    "\n",
    "# 替换原文件\n",
    "os.remove(file_path)\n",
    "os.rename(temp_file_path, file_path)\n",
    "\n",
    "print(\"空格、表情和空行去除完成\")"
   ]
  }
 ],
 "metadata": {
  "kernelspec": {
   "display_name": "base",
   "language": "python",
   "name": "python3"
  },
  "language_info": {
   "codemirror_mode": {
    "name": "ipython",
    "version": 3
   },
   "file_extension": ".py",
   "mimetype": "text/x-python",
   "name": "python",
   "nbconvert_exporter": "python",
   "pygments_lexer": "ipython3",
   "version": "3.8.8"
  }
 },
 "nbformat": 4,
 "nbformat_minor": 5
}
