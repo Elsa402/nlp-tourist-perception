{
 "cells": [
  {
   "cell_type": "markdown",
   "id": "efd811b0",
   "metadata": {},
   "source": [
    "## 爬取网址"
   ]
  },
  {
   "cell_type": "code",
   "execution_count": null,
   "id": "729e7e0f",
   "metadata": {},
   "outputs": [],
   "source": [
    "import requests\n",
    "from lxml import etree\n",
    "import os\n",
    "import csv\n",
    "\n",
    "# 获取当前工作目录（适用于 Jupyter、交互式终端）\n",
    "script_dir = os.getcwd()\n",
    "\n",
    "# 输出CSV路径\n",
    "csv_path = os.path.join(script_dir, 'ubpa_all_pages.csv')\n",
    "\n",
    "# 创建CSV文件并写入表头\n",
    "with open(csv_path, 'w', encoding='utf-8', newline='') as f:\n",
    "    writer = csv.writer(f)\n",
    "    writer.writerow(['标题', '日期', '链接', '简介'])  # 写入表头\n",
    "\n",
    "    # 循环爬取 1~35 页\n",
    "    for page_num in range(1, 36):\n",
    "        url = f'http://www.ubpa.com.cn/index.php?c=content&a=list&catid=7&page={page_num}'\n",
    "        print(f'正在爬取第 {page_num} 页：{url}')\n",
    "        try:\n",
    "            response = requests.get(url, timeout=10)\n",
    "            response.encoding = 'utf-8'  # 避免编码乱码\n",
    "            html = response.text\n",
    "        except Exception as e:\n",
    "            print(f'⚠️ 第 {page_num} 页请求失败：{e}')\n",
    "            continue\n",
    "\n",
    "        root = etree.HTML(html)\n",
    "        news_items = root.xpath('//div[@class=\"news-c\"]/ul/li')\n",
    "        print(f'  提取到 {len(news_items)} 条新闻')\n",
    "\n",
    "        for item in news_items:\n",
    "            title = item.xpath('.//p[@class=\"news-c1\"]/a/text()')\n",
    "            title = title[0].strip() if title else ''\n",
    "            link = item.xpath('.//p[@class=\"news-c1\"]/a/@href')\n",
    "            link = 'http://www.ubpa.com.cn' + link[0] if link else ''\n",
    "            date = item.xpath('.//p[@class=\"news-c1\"]/em/text()')\n",
    "            date = date[0].strip() if date else ''\n",
    "            summary = item.xpath('.//p[@class=\"news-c2\"]/text()')\n",
    "            summary = summary[0].strip() if summary else ''\n",
    "\n",
    "            writer.writerow([title, date, link, summary])\n"
   ]
  },
  {
   "cell_type": "markdown",
   "id": "f3039cc7",
   "metadata": {},
   "source": [
    "## 提取到txt文件"
   ]
  },
  {
   "cell_type": "code",
   "execution_count": 17,
   "id": "7a971a6a",
   "metadata": {},
   "outputs": [
    {
     "name": "stdout",
     "output_type": "stream",
     "text": [
      "✅ 简介内容已成功写入 ubpa_summary.txt，且已去除所有 </h1> 标签。\n"
     ]
    }
   ],
   "source": [
    "import csv\n",
    "import os\n",
    "\n",
    "# 使用当前工作目录（兼容Jupyter和交互式环境）\n",
    "script_dir = os.getcwd()\n",
    "\n",
    "# 输入CSV路径\n",
    "csv_path = os.path.join(script_dir, 'ubpa_all_pages.csv')\n",
    "\n",
    "# 输出TXT路径\n",
    "txt_path = os.path.join(script_dir, 'ubpa_summary.txt')\n",
    "\n",
    "# 读取CSV并写入TXT，同时去除简介中的所有 '</h1>' 标签\n",
    "with open(csv_path, 'r', encoding='utf-8') as csv_file, \\\n",
    "     open(txt_path, 'w', encoding='utf-8') as txt_file:\n",
    "\n",
    "    reader = csv.DictReader(csv_file)\n",
    "\n",
    "    for row in reader:\n",
    "        summary = row['简介'].strip()\n",
    "        # 去除所有 '</h1>' 标签\n",
    "        summary_clean = summary.replace('</h1>', '')\n",
    "        txt_file.write(f'{summary_clean}\\n')\n",
    "\n",
    "print('✅ 简介内容已成功写入 ubpa_summary.txt，且已去除所有 </h1> 标签。')\n"
   ]
  },
  {
   "cell_type": "markdown",
   "id": "b3d1a7fc",
   "metadata": {},
   "source": [
    "## 生成词云"
   ]
  },
  {
   "cell_type": "code",
   "execution_count": 41,
   "id": "aa2fd17d",
   "metadata": {},
   "outputs": [
    {
     "name": "stdout",
     "output_type": "stream",
     "text": [
      "词频最高的20个词:\n",
      "世博: 184\n",
      "建筑: 91\n",
      "新: 68\n",
      "世界: 65\n",
      "UBPA: 65\n",
      "创意: 60\n",
      "上海市: 59\n",
      "秀场: 58\n",
      "绿色: 58\n",
      "生活: 57\n",
      "文化: 56\n",
      "中国: 56\n",
      "世博会: 54\n",
      "发展: 53\n",
      "滨江: 50\n",
      "黄浦: 48\n",
      "设计: 48\n",
      "人: 44\n",
      "半淞园: 43\n",
      "公司: 43\n",
      "✅ 词云已保存到: /Users/elsa/Desktop/爬虫学习/wordcloud.png\n"
     ]
    },
    {
     "data": {
      "image/png": "[encoded data removed]",
      "text/plain": [
       "<Figure size 432x288 with 1 Axes>"
      ]
     },
     "metadata": {
      "needs_background": "light"
     },
     "output_type": "display_data"
    }
   ],
   "source": [
    "import os\n",
    "import jieba\n",
    "from wordcloud import WordCloud\n",
    "import matplotlib.pyplot as plt\n",
    "from collections import Counter\n",
    "from PIL import Image\n",
    "import numpy as np\n",
    "import re\n",
    "\n",
    "# 停用词文件路径\n",
    "stopwords_path = '/Users/elsa/Desktop/爬虫学习/园区停用词表.txt'\n",
    "\n",
    "script_dir = os.getcwd()\n",
    "txt_path = os.path.join(script_dir, 'ubpa_summary.txt')\n",
    "wordcloud_path = os.path.join(script_dir, 'wordcloud.png')\n",
    "\n",
    "# 读取停用词\n",
    "with open(stopwords_path, 'r', encoding='utf-8') as f:\n",
    "    stopwords = set(line.strip() for line in f if line.strip())\n",
    "\n",
    "# 自定义词\n",
    "jieba.add_word('城市最佳实践区', freq=20000)\n",
    "\n",
    "\n",
    "# 读取文本\n",
    "with open(txt_path, 'r', encoding='utf-8') as f:\n",
    "    text = f.read()\n",
    "\n",
    "text = re.sub(r'\\d+', '', text)\n",
    "\n",
    "# 分词并过滤停用词\n",
    "words = jieba.cut(text)\n",
    "filtered_words = [w for w in words if w.strip() and w not in stopwords]\n",
    "\n",
    "# 归一化词语，把“实践区”和“世博”都替换成“城市最佳实践区”\n",
    "normalized_words = [\n",
    "    '城市最佳实践区' if w in ['实践区', '世博'] else w\n",
    "    for w in filtered_words\n",
    "]\n",
    "\n",
    "# 词频统计\n",
    "word_counts = Counter(filtered_words)\n",
    "\n",
    "mask_img = np.array(Image.open('/Users/elsa/Desktop/爬虫学习/mask.png'))\n",
    "\n",
    "# 打印词频最高的20个词\n",
    "print('词频最高的20个词:')\n",
    "for word, freq in word_counts.most_common(20):\n",
    "    print(f'{word}: {freq}')\n",
    "\n",
    "# 生成词云，直接用词频字典\n",
    "wc = WordCloud(\n",
    "    font_path='/System/Library/Fonts/STHeiti Medium.ttc',\n",
    "    background_color='white',\n",
    "    width=800,\n",
    "    height=600,\n",
    "    max_words=200,\n",
    "    mask = mask_img\n",
    ")\n",
    "\n",
    "wc.generate_from_frequencies(word_counts)\n",
    "wc.to_file(wordcloud_path)\n",
    "print(f'✅ 词云已保存到: {wordcloud_path}')\n",
    "\n",
    "plt.imshow(wc, interpolation='bilinear')\n",
    "plt.axis('off')\n",
    "plt.show()\n"
   ]
  }
 ],
 "metadata": {
  "kernelspec": {
   "display_name": "base",
   "language": "python",
   "name": "python3"
  },
  "language_info": {
   "codemirror_mode": {
    "name": "ipython",
    "version": 3
   },
   "file_extension": ".py",
   "mimetype": "text/x-python",
   "name": "python",
   "nbconvert_exporter": "python",
   "pygments_lexer": "ipython3",
   "version": "3.8.8"
  }
 },
 "nbformat": 4,
 "nbformat_minor": 5
}
