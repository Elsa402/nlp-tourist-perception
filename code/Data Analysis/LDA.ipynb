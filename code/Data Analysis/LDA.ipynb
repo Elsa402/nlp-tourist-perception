{
 "cells": [
  {
   "cell_type": "markdown",
   "id": "daf51330",
   "metadata": {},
   "source": [
    "## 0.导入所需库"
   ]
  },
  {
   "cell_type": "code",
   "execution_count": 17,
   "id": "7daf133f",
   "metadata": {},
   "outputs": [],
   "source": [
    "# 导入所需库\n",
    "import pandas as pd\n",
    "import jieba\n",
    "from collections import Counter\n",
    "import jieba.analyse\n",
    "from gensim.corpora import Dictionary\n",
    "from gensim.models import TfidfModel, LdaModel, CoherenceModel\n",
    "import pyLDAvis.gensim_models\n",
    "import matplotlib.pyplot as plt\n",
    "from sklearn.feature_extraction.text import TfidfVectorizer\n",
    "import os\n",
    "import warnings\n",
    "warnings.filterwarnings('ignore')"
   ]
  },
  {
   "cell_type": "markdown",
   "id": "59c4daf6",
   "metadata": {},
   "source": [
    "## 1.数据预处理：使用停用词表分词"
   ]
  },
  {
   "cell_type": "code",
   "execution_count": 18,
   "id": "0a4b1dfe",
   "metadata": {},
   "outputs": [
    {
     "name": "stdout",
     "output_type": "stream",
     "text": [
      "数据加载完成，共622篇论文\n",
      "已加载基础自定义词典\n",
      "已加载停用词表，共829个停用词\n",
      "\n",
      "【预处理流程开始】\n",
      "动态添加1861个新词（最高频词：'智慧'x602）\n",
      "\n",
      "预处理完成，示例结果：\n",
      "智慧 城市 背景 城市规划 设计 分析 智慧 城市 建设 现代 城市 发展 重要 趋势 核心 目标 利用 先进 信息技术 优化 城市 管理 提高 资源 利用效率 改善 居民 生活 质量 背景 城市规划 设计 需要 传统模式 数据 驱动 方向 转型 适应 智慧 城市 发展 需求 本文 分析 智慧 城市 城市规划 内涵 明确 城市规划 设计 智慧 城市 建设 作用 探讨 智慧 城市 背景 城市规划 设...\n",
      "\n",
      "结果已保存至：/Users/elsa/Desktop/工作流/0617/论文学习/processed_papers.csv\n"
     ]
    }
   ],
   "source": [
    "# 加载数据\n",
    "if not os.path.exists('/Users/elsa/Desktop/工作流/0617/论文学习/articles.csv'):\n",
    "    raise FileNotFoundError(\"请确保articles.csv文件存在，并包含title和abstract列\")\n",
    "\n",
    "df = pd.read_csv('/Users/elsa/Desktop/工作流/0617/论文学习/articles.csv', encoding='utf-8-sig')\n",
    "print(f\"数据加载完成，共{len(df)}篇论文\")\n",
    "\n",
    "# 加载自定义词典（优先加载基础词典）\n",
    "if os.path.exists('/Users/elsa/Desktop/工作流/0617/论文学习/核心规划术语_AI.txt'):\n",
    "    jieba.load_userdict('/Users/elsa/Desktop/工作流/0617/论文学习/核心规划术语_AI.txt')\n",
    "    print(\"已加载基础自定义词典\")\n",
    "else:\n",
    "    print(\"未找到基础词典，将使用默认词典\")\n",
    "\n",
    "# 加载停用词表（修正路径不一致问题）\n",
    "stopwords_path = '/Users/elsa/Desktop/工作流/0617/论文学习/哈工大停用词表_AI.txt'\n",
    "if os.path.exists(stopwords_path):\n",
    "    with open(stopwords_path, 'r', encoding='utf-8') as f:\n",
    "        stopwords = [line.strip() for line in f]\n",
    "    print(f\"已加载停用词表，共{len(stopwords)}个停用词\")\n",
    "else:\n",
    "    stopwords = []\n",
    "    print(\"未找到停用词表，将不使用停用词\")\n",
    "\n",
    "# 动态词典扩展函数（优化版）\n",
    "def dynamic_dict_update(text_series, min_freq=5):\n",
    "    \"\"\"从文本序列动态提取新词并添加词频权重\"\"\"\n",
    "    all_text = ' '.join(text_series.astype(str).tolist())\n",
    "    word_counts = Counter(jieba.lcut(all_text))\n",
    "    \n",
    "    # 过滤条件：非停用词、长度>1、出现频率达标\n",
    "    new_terms = [\n",
    "        (w, c) for w, c in word_counts.items() \n",
    "        if w not in stopwords and len(w) > 1 and c >= min_freq\n",
    "    ]\n",
    "    \n",
    "    # 按词频降序添加（高频词优先）\n",
    "    for term, freq in sorted(new_terms, key=lambda x: x[1], reverse=True):\n",
    "        jieba.add_word(term, freq=freq*10)  # 动态设置词频权重\n",
    "    \n",
    "    print(f\"动态添加{len(new_terms)}个新词（最高频词：'{new_terms[0][0]}'x{new_terms[0][1]}）\")\n",
    "\n",
    "# 预处理函数（整合动态扩展）\n",
    "def chinese_preprocess(text):\n",
    "    \"\"\"中文文本预处理（含动态词典更新）\"\"\"\n",
    "    if pd.isna(text):\n",
    "        return ''\n",
    "    \n",
    "    # 动态处理当前文本中的潜在新词\n",
    "    temp_terms = [w for w in jieba.lcut(text) \n",
    "                 if len(w) > 2 and w not in stopwords]\n",
    "    for term in set(temp_terms):  # 去重\n",
    "        jieba.suggest_freq(term, tune=True)\n",
    "    \n",
    "    # 正式分词处理\n",
    "    words = jieba.lcut(text)\n",
    "    words = [w for w in words if w not in stopwords and len(w) > 1]\n",
    "    return ' '.join(words)\n",
    "\n",
    "# 执行流程（关键步骤）\n",
    "print(\"\\n【预处理流程开始】\")\n",
    "# 步骤1：初始动态词典扩展（基于全量数据）\n",
    "dynamic_dict_update(df['title'] + ' ' + df['abstract'])\n",
    "\n",
    "# 步骤2：应用预处理\n",
    "df['processed_text'] = (\n",
    "    df['title'].fillna('') + ' ' + df['abstract'].fillna('')\n",
    ").apply(chinese_preprocess)\n",
    "\n",
    "# 结果验证\n",
    "print(\"\\n预处理完成，示例结果：\")\n",
    "print(df['processed_text'].iloc[0][:200] + \"...\")  # 显示前200字符\n",
    "\n",
    "# 保存结果\n",
    "output_path = '/Users/elsa/Desktop/工作流/0617/论文学习/processed_papers.csv'\n",
    "df.to_csv(output_path, index=False, encoding='utf-8-sig')\n",
    "print(f\"\\n结果已保存至：{output_path}\")\n"
   ]
  },
  {
   "cell_type": "markdown",
   "id": "a35c038e",
   "metadata": {},
   "source": [
    "## 3.特征工程"
   ]
  },
  {
   "cell_type": "code",
   "execution_count": 19,
   "id": "fa62a191",
   "metadata": {},
   "outputs": [
    {
     "name": "stdout",
     "output_type": "stream",
     "text": [
      "原始词典大小: 7259\n",
      "过滤后词典大小: 1392\n",
      "词袋模型创建完成，共622篇文档\n",
      "TF-IDF加权完成\n"
     ]
    }
   ],
   "source": [
    "# %%\n",
    "# 将文本转换为词列表\n",
    "texts = [text.split() for text in df['processed_text']]\n",
    "\n",
    "# 创建词典\n",
    "dictionary = Dictionary(texts)\n",
    "print(f\"原始词典大小: {len(dictionary)}\")\n",
    "\n",
    "# 过滤极端值\n",
    "dictionary.filter_extremes(no_below=5, no_above=0.5)\n",
    "print(f\"过滤后词典大小: {len(dictionary)}\")\n",
    "\n",
    "# 创建词袋\n",
    "corpus = [dictionary.doc2bow(text) for text in texts]\n",
    "print(f\"词袋模型创建完成，共{len(corpus)}篇文档\")\n",
    "\n",
    "# %%\n",
    "# TF-IDF加权\n",
    "tfidf = TfidfModel(corpus)\n",
    "corpus_tfidf = tfidf[corpus]\n",
    "print(\"TF-IDF加权完成\")"
   ]
  },
  {
   "cell_type": "markdown",
   "id": "1217d684",
   "metadata": {},
   "source": [
    "## 4.LDA主题建模"
   ]
  },
  {
   "cell_type": "code",
   "execution_count": 20,
   "id": "776cc966",
   "metadata": {},
   "outputs": [
    {
     "name": "stdout",
     "output_type": "stream",
     "text": [
      "正在训练3个主题的模型...\n",
      "完成3个主题模型: 一致性=0.452, 困惑度=-7.650\n",
      "正在训练4个主题的模型...\n",
      "完成4个主题模型: 一致性=0.408, 困惑度=-8.112\n",
      "正在训练5个主题的模型...\n",
      "完成5个主题模型: 一致性=0.476, 困惑度=-7.926\n",
      "正在训练6个主题的模型...\n",
      "完成6个主题模型: 一致性=0.419, 困惑度=-8.550\n",
      "正在训练7个主题的模型...\n",
      "完成7个主题模型: 一致性=0.408, 困惑度=-8.882\n",
      "正在训练8个主题的模型...\n",
      "完成8个主题模型: 一致性=0.453, 困惑度=-8.707\n",
      "正在训练9个主题的模型...\n",
      "完成9个主题模型: 一致性=0.424, 困惑度=-9.230\n"
     ]
    },
    {
     "data": {
      "image/png": "[encoded data removed]",
      "text/plain": [
       "<Figure size 864x360 with 2 Axes>"
      ]
     },
     "metadata": {
      "needs_background": "light"
     },
     "output_type": "display_data"
    }
   ],
   "source": [
    "# %%\n",
    "# 定义主题数范围\n",
    "num_topics_range = range(3, 10)\n",
    "models = {}\n",
    "coherence_scores = []\n",
    "perplexity_scores = []\n",
    "\n",
    "# %%\n",
    "# 训练不同主题数的LDA模型\n",
    "for num_topics in num_topics_range:\n",
    "    print(f\"正在训练{num_topics}个主题的模型...\")\n",
    "    lda = LdaModel(\n",
    "        corpus=corpus_tfidf,\n",
    "        id2word=dictionary,\n",
    "        num_topics=num_topics,\n",
    "        random_state=42,\n",
    "        passes=10,\n",
    "        alpha='auto'\n",
    "    )\n",
    "    models[num_topics] = lda\n",
    "    \n",
    "    # 计算一致性分数\n",
    "    coherence = CoherenceModel(\n",
    "        model=lda,\n",
    "        texts=texts,\n",
    "        dictionary=dictionary,\n",
    "        coherence='c_v'\n",
    "    ).get_coherence()\n",
    "    coherence_scores.append(coherence)\n",
    "    \n",
    "    # 计算困惑度\n",
    "    perplexity = lda.log_perplexity(corpus_tfidf)\n",
    "    perplexity_scores.append(perplexity)\n",
    "    \n",
    "    print(f\"完成{num_topics}个主题模型: 一致性={coherence:.3f}, 困惑度={perplexity:.3f}\")\n",
    "\n",
    "# %%\n",
    "# 绘制评估曲线\n",
    "import matplotlib.pyplot as plt\n",
    "\n",
    "plt.rcParams['font.sans-serif'] = ['Heiti SC', 'PingFang SC', 'STHeiti', 'Arial Unicode MS']\n",
    "plt.rcParams['axes.unicode_minus'] = False\n",
    "\n",
    "plt.figure(figsize=(12, 5))\n",
    "\n",
    "plt.subplot(1, 2, 1)\n",
    "plt.plot(num_topics_range, coherence_scores, 'b-o')\n",
    "plt.xlabel('主题数量')\n",
    "plt.ylabel('一致性分数')\n",
    "plt.title('主题一致性分析')\n",
    "\n",
    "plt.subplot(1, 2, 2)\n",
    "plt.plot(num_topics_range, perplexity_scores, 'r-o')\n",
    "plt.xlabel('主题数量')\n",
    "plt.ylabel('困惑度分数')\n",
    "plt.title('主题困惑度分析')\n",
    "\n",
    "plt.tight_layout()\n",
    "plt.savefig('model_evaluation.png', dpi=300)\n",
    "plt.show()\n"
   ]
  },
  {
   "cell_type": "markdown",
   "id": "dcb1a32e",
   "metadata": {},
   "source": [
    "## 5.模型可视化与分析"
   ]
  },
  {
   "cell_type": "code",
   "execution_count": 28,
   "id": "3149833d",
   "metadata": {},
   "outputs": [
    {
     "name": "stdout",
     "output_type": "stream",
     "text": [
      "LDA可视化已保存为ai_urban_planning_lda.html\n",
      "==================================================\n",
      "AI+城市规划论文主题分析结果（共8个主题）\n",
      "==================================================\n",
      "\n",
      "主题 0:\n",
      "国土(0.011), 空间规划(0.011), 智慧(0.006), 地形(0.006), 规划(0.005), 测量(0.005), 12(0.005), 测绘(0.004), 配电网(0.004), 20(0.004)\n",
      "\n",
      "主题 1:\n",
      "电网(0.010), 意象(0.008), 智慧(0.006), 风险(0.005), 中国(0.005), 规划(0.005), 城市规划(0.005), 媒体(0.005), 虚拟(0.005), 艺术(0.004)\n",
      "\n",
      "主题 2:\n",
      "街道(0.015), 2000(0.005), 教学(0.005), 交通运输(0.005), 品质(0.004), 国家(0.004), 课题(0.004), 课程(0.004), 会议(0.003), 印发(0.003)\n",
      "\n",
      "主题 3:\n",
      "三维(0.030), 系统(0.018), 决策(0.016), 辅助(0.016), GIS(0.016), 规划(0.008), 城市规划(0.008), 电网(0.006), 管理(0.006), 二维(0.005)\n",
      "\n",
      "主题 4:\n",
      "通信(0.005), 5G(0.004), 形象(0.003), 人机(0.002), 自然(0.002), 可靠(0.002), 互联网(0.002), 深刻(0.002), 众多(0.002), 空间规划(0.002)\n",
      "\n",
      "主题 5:\n",
      "新一代(0.005), 智慧(0.005), 业务(0.004), 边界(0.004), 带来(0.004), 区块(0.004), 生命(0.004), 竞争(0.004), 想象(0.003), 适合(0.003)\n",
      "\n",
      "主题 6:\n",
      "智慧(0.011), 城市规划(0.008), 空间(0.008), 人工智能(0.008), 技术(0.007), 设计(0.007), 规划(0.006), 应用(0.006), 数字(0.006), 智能(0.005)\n",
      "\n",
      "主题 7:\n",
      "街区(0.007), 风貌(0.007), 建筑(0.006), 生成(0.005), 规划(0.005), 感知(0.005), 学习(0.004), 意象(0.004), 机器(0.004), 设计(0.004)\n"
     ]
    }
   ],
   "source": [
    "# 选择最佳主题数（这里假设为6）\n",
    "best_num_topics = 8\n",
    "best_lda = models[best_num_topics]\n",
    "\n",
    "# 准备可视化数据\n",
    "vis_data = pyLDAvis.gensim_models.prepare(best_lda, corpus, dictionary)\n",
    "\n",
    "# 保存可视化结果\n",
    "pyLDAvis.save_html(vis_data, 'ai_urban_planning_lda.html')\n",
    "print(\"LDA可视化已保存为ai_urban_planning_lda.html\")\n",
    "\n",
    "# %%\n",
    "# 提取主题关键词\n",
    "topics = best_lda.show_topics(num_topics=best_num_topics, num_words=10, formatted=False)\n",
    "\n",
    "print(\"=\"*50)\n",
    "print(f\"AI+城市规划论文主题分析结果（共{best_num_topics}个主题）\")\n",
    "print(\"=\"*50)\n",
    "\n",
    "for topic_id, words in topics:\n",
    "    print(f\"\\n主题 {topic_id}:\")\n",
    "    print(\", \".join([f\"{word[0]}({word[1]:.3f})\" for word in words]))\n",
    "\n",
    "# %%\n",
    "# 文档-主题分布分析\n",
    "doc_topics = [best_lda.get_document_topics(doc) for doc in corpus]\n",
    "\n",
    "# 转换为DataFrame\n",
    "topic_dist_df = pd.DataFrame()\n",
    "for i, doc in enumerate(doc_topics):\n",
    "    for topic, prob in doc:\n",
    "        topic_dist_df.loc[i, f'Topic_{topic}'] = prob\n",
    "\n",
    "# 添加原始文本\n",
    "topic_dist_df['title'] = df['title']\n",
    "topic_dist_df['abstract'] = df['abstract']\n",
    "topic_dist_df['processed_text'] = df['processed_text']\n",
    "\n",
    "# 保存结果\n",
    "topic_dist_df.to_csv('document_topic_distribution.csv', index=False, encoding='utf-8-sig')\n",
    "\n",
    "\n"
   ]
  },
  {
   "cell_type": "markdown",
   "id": "b98247a4",
   "metadata": {},
   "source": [
    "## 6.结果解读与应用"
   ]
  },
  {
   "cell_type": "code",
   "execution_count": 29,
   "id": "89046f80",
   "metadata": {},
   "outputs": [
    {
     "name": "stdout",
     "output_type": "stream",
     "text": [
      "\n",
      "主题分布统计:\n",
      "Topic_0      4\n",
      "Topic_1      3\n",
      "Topic_2      2\n",
      "Topic_3     26\n",
      "Topic_5      1\n",
      "Topic_6    584\n",
      "Topic_7      2\n",
      "dtype: int64\n",
      "\n",
      "各主题代表性论文:\n",
      "\n",
      "主题 0 的代表性论文:\n",
      "\n",
      "标题: nan\n",
      "主题概率: 0.802\n",
      "摘要: 2012-04-27...\n",
      "\n",
      "标题: 杨静\n",
      "主题概率: 0.733\n",
      "摘要: 2016-12-01...\n",
      "\n",
      "标题: nan\n",
      "主题概率: 0.732\n",
      "摘要: 2005-04-28...\n",
      "\n",
      "主题 1 的代表性论文:\n",
      "\n",
      "标题: “新时代 新生活——第三届中国设计大展及公共艺术专题展”在深圳举办\n",
      "主题概率: 0.763\n",
      "摘要: <正>2019年1月11日,由中华人民共和国文化和旅游部、广东省人民政府和深圳市人民政府主办,文化和旅游部艺术司、广东省文化和旅游厅、中共深圳市委宣传部、深圳市文体旅游局承办,执行单位为深圳市关山月美...\n",
      "\n",
      "标题: 城市规划准则与当代中国城市规划\n",
      "主题概率: 0.576\n"
     ]
    },
    {
     "ename": "TypeError",
     "evalue": "'float' object is not subscriptable",
     "output_type": "error",
     "traceback": [
      "\u001b[0;31m---------------------------------------------------------------------------\u001b[0m",
      "\u001b[0;31mTypeError\u001b[0m                                 Traceback (most recent call last)",
      "\u001b[0;32m<ipython-input-29-1a56a1296be3>\u001b[0m in \u001b[0;36m<module>\u001b[0;34m\u001b[0m\n\u001b[1;32m     17\u001b[0m         \u001b[0mprint\u001b[0m\u001b[0;34m(\u001b[0m\u001b[0;34mf\"\\n标题: {row['title']}\"\u001b[0m\u001b[0;34m)\u001b[0m\u001b[0;34m\u001b[0m\u001b[0;34m\u001b[0m\u001b[0m\n\u001b[1;32m     18\u001b[0m         \u001b[0mprint\u001b[0m\u001b[0;34m(\u001b[0m\u001b[0;34mf\"主题概率: {row[f'Topic_{topic}']:.3f}\"\u001b[0m\u001b[0;34m)\u001b[0m\u001b[0;34m\u001b[0m\u001b[0;34m\u001b[0m\u001b[0m\n\u001b[0;32m---> 19\u001b[0;31m         \u001b[0mprint\u001b[0m\u001b[0;34m(\u001b[0m\u001b[0;34mf\"摘要: {row['abstract'][:100]}...\"\u001b[0m\u001b[0;34m)\u001b[0m\u001b[0;34m\u001b[0m\u001b[0;34m\u001b[0m\u001b[0m\n\u001b[0m\u001b[1;32m     20\u001b[0m \u001b[0;34m\u001b[0m\u001b[0m\n\u001b[1;32m     21\u001b[0m \u001b[0;31m# %% [markdown]\u001b[0m\u001b[0;34m\u001b[0m\u001b[0;34m\u001b[0m\u001b[0;34m\u001b[0m\u001b[0m\n",
      "\u001b[0;31mTypeError\u001b[0m: 'float' object is not subscriptable"
     ]
    }
   ],
   "source": [
    "# %%\n",
    "# 分析每个主题的代表性论文\n",
    "dominant_topics = topic_dist_df.drop(['title', 'abstract', 'processed_text'], axis=1).idxmax(axis=1)\n",
    "\n",
    "# 统计主题分布\n",
    "topic_distribution = dominant_topics.value_counts().sort_index()\n",
    "print(\"\\n主题分布统计:\")\n",
    "print(topic_distribution)\n",
    "\n",
    "# %%\n",
    "# 为每个主题找出最具代表性的3篇论文\n",
    "print(\"\\n各主题代表性论文:\")\n",
    "for topic in range(best_num_topics):\n",
    "    print(f\"\\n主题 {topic} 的代表性论文:\")\n",
    "    topic_docs = topic_dist_df.nlargest(3, f'Topic_{topic}')\n",
    "    for idx, row in topic_docs.iterrows():\n",
    "        print(f\"\\n标题: {row['title']}\")\n",
    "        print(f\"主题概率: {row[f'Topic_{topic}']:.3f}\")\n",
    "        print(f\"摘要: {row['abstract'][:100]}...\")\n",
    "\n",
    "# %% [markdown]"
   ]
  },
  {
   "cell_type": "markdown",
   "id": "4936b9e6",
   "metadata": {},
   "source": [
    "## 7.保存与导出"
   ]
  },
  {
   "cell_type": "code",
   "execution_count": 30,
   "id": "9437bfa7",
   "metadata": {},
   "outputs": [
    {
     "name": "stdout",
     "output_type": "stream",
     "text": [
      "模型已保存为ai_urban_planning_lda.model和ai_urban_planning_dict.dict\n"
     ]
    }
   ],
   "source": [
    "# %%\n",
    "# 保存模型\n",
    "best_lda.save('ai_urban_planning_lda.model')\n",
    "dictionary.save('ai_urban_planning_dict.dict')\n",
    "print(\"模型已保存为ai_urban_planning_lda.model和ai_urban_planning_dict.dict\")"
   ]
  }
 ],
 "metadata": {
  "kernelspec": {
   "display_name": "base",
   "language": "python",
   "name": "python3"
  },
  "language_info": {
   "codemirror_mode": {
    "name": "ipython",
    "version": 3
   },
   "file_extension": ".py",
   "mimetype": "text/x-python",
   "name": "python",
   "nbconvert_exporter": "python",
   "pygments_lexer": "ipython3",
   "version": "3.8.8"
  }
 },
 "nbformat": 4,
 "nbformat_minor": 5
}
