{
 "cells": [
  {
   "cell_type": "markdown",
   "id": "06198d3f",
   "metadata": {},
   "source": [
    "# 一、文本分割"
   ]
  },
  {
   "cell_type": "markdown",
   "id": "d98e740a",
   "metadata": {},
   "source": [
    "## split函数\n",
    "re.split(pattern, string)\n",
    "pattern：相当于str.split()中的sep，分隔符的意思，不但可以是字符串，也可以为正则表达式: '[ab]'，表示的意思就是取a和b的任意一个值\n",
    "string：要进行分割的字符串"
   ]
  },
  {
   "cell_type": "code",
   "execution_count": null,
   "id": "f7267a28",
   "metadata": {},
   "outputs": [
    {
     "name": "stdout",
     "output_type": "stream",
     "text": [
      "['沿河在不同的地方走了好几次', '有关部门打造了一个绝佳的步行和文化区域', '全长步行区', '出色的堤岸', '迷人的建筑', '既现代又古老', '很多上海人晚上在河边休闲', '没有异味', '空气清新', '绿树成荫', '傍晚的灯光很好', '\\n过了黄浦公园', '苏州河在外白渡桥与黄浦江分流', '流向内陆', '与外滩不同的是', '这里的河畔地区让人直接感受到平民百姓的生活气息', '这里是漫步欣赏小镇风光的好去处', '\\n与团员们一起乘船游览了河上的美丽景色', '  让人对这座大都市有了不同的印象', '\\n苏州河悠悠流过上海', '沿着河边漫步', '您将到达上海公馆', '在那里您可以回顾上海的历史', '如果可能的话', '事先研究一下路线', '印象会更加深刻', '苏州河畔的建筑依然散发着旧租界时期的浓郁气息', '\\n网站上关于上海苏州河的评论并不令人振奋', '而我却非常喜欢这条河', '我在上海时住在苏州河右岸的一家小旅馆里', '有一次我决定顺流而下', '走到苏州河与黄浦江的交汇处', '这是一次非常迷人的步行--去程大约 2 公里', '回程也是同样的距离', '但却是在对岸', '首先', '这条河的两岸被设计成步行区和堤岸', '在堤岸上行走是一种享受', '河道不是平坦的', '而是弯曲的', '每转一个弯都有新的景色', '  沿河而行', '你会看到不同时代、不同建筑风格的建筑--中式建筑和欧式建筑、住宅建筑和商业建筑', '最美的地方在苏州与黄浦江的交汇处', '这里有壮观的大桥、雄伟的欧式建筑', '地平线上是黄浦江对岸的全景', '浦东新区的摩天大楼和塔楼蔚为壮观', '苏州河右岸是 20 世纪初的砖砌建筑群', '非常有趣；左岸是俄罗斯大使馆大楼', '位于一座美丽的古宅中', '在河边散步时', '您还可以找到咖啡馆享用小吃或咖啡', '  另一个好处是', '苏州河堤上没有很多人', '很安静、平和', '但非常舒适', '  总的来说', '我觉得在苏州河畔散步比在喧闹拥挤的南京路步行街散步要惬意得多', '\\n苏州河（或吴淞江）现在比以前更加清洁', '水更清澈', '不再闻到', '它周围的人行道得到了改善', '它是跑步', '散步和骑自行车的好地方', '在晚上', '它也更加和平', '很多当地人也在这里钓鱼（夜晚特别是因为这里可能禁止钓鱼）', '\\n现在', '它甚至不是一般的河边步行', '在夏天的中间', '尘土飞扬的建筑物实际上非常严重', '而且许多在公路上行驶的旧建筑物都被拆除了', '也有很多无家可归者', '但！有潜力', '有几个小部分', '你可以走近水', '2个小公园（虽然很小）', '以暂时休息', '此外', '一些旧仓库已经变成酒店和画廊', '保持其令人回味的外观', '给它一年或两年', '我相信那些狡猾的中国人会把它解决掉', '\\n在天山地区', '有一条沿河长廊', '人们可以在此自由散步、跑步、练习骑自行车等', '傍晚时分', '这里的夕阳美不胜收', '让人流连忘返', '\\n苏州河流入黄河 - 主要河流经上海', '沿河的漂亮人行道', '向西走', '看看美丽的老邮局大楼！\\n沿河漫步非常棒', '您可以乘坐小渡船到对岸', '这是一次不错的体验', '\\n与Portia一起进行的私人定制一日游', '在我们从上海出发的一小时车程中', '从过去和现在彻底谈论中国的历史和文化', '我们能够选择网络花园大师', '并喜欢用筷子吃饭', '而波西亚则向我们介绍了中国特色食品', '如面条和饺子', '总体来说', '这是一个难忘的经历', '我们不会忘记！\\n这条河和黄浦江是两条完全不同的水道', '所以有些游客反馈说可以在这里坐船或者沿着宽阔的长廊散步', '这都是谬误！这是一条小河', '沿途都是普通居民区', '所以不会有令人难忘的景色', '部分 \"堤坝 \"被建筑工地围了起来', '根本无法看到河面', '\\n这里被称为 \"东方威尼斯 \"并非浪得虚名', '夜景美不胜收', '是沿河艺术的奇观', '\\n傍晚时分', '趁着阳光明媚', '我们乘坐观光船往返于河边', '生活气息扑面而来', '去过其他几个水乡', '感觉河面不够宽', '在经过迎面驶来的观光船时', '两船相距很近', '有人被打开的窗户溅起的水花打湿了衣服', '晚上 7 点以后', '灯光营造出一种非常奇特的氛围', '很多人手里都拿着相机', '\\n没有意识到它有多么迷人就是拥有一个漫步苏州河直到偶然得到它的河岸', ' 樱花和狂暴盛开', ' 当地人乘凉的银行中的各种活动从跳舞', '聊天', '锻炼去钓鱼', ' 附近有很多的文物建筑和不要害怕探索历史上的一个小巷子才能提高', '\\n曾經的臭水浜', '如今已經非常漂亮了', '這次路過蘇州河看到如此的美景', '忍不住拍了張照片', '相信隨著上海蘇河灣的逐步建設', '蘇州河將再一次以全新的面貌展現在我們眼前', '\\n苏州河（呉淞江）流经市中心以北', '最终汇入黄浦江', '苏州河沿岸有一条长廊', '可以看到人们在河边散步', '河水淤积', '不太干净', '但还是建议您到河边散步', '\\n老上海人对于苏州河承载着太多的情感', '从过去脏乱差到现在逐步恢复到清澈', '可以说苏州河就是上海百年来发展的缩影', '\\n黄浦江在人民英雄纪念碑周围分成几条支流', '这就是苏州河', '这里有租界时代遗留下来的外白渡桥和上海大公馆', '再往里走', '就能感受到不同于外滩的上海市区氛围', '\\n目前正在进行重大改造', '沿河正在建造许多高质量的公寓', '您将经过一座重现子弹撞击痕迹的房子', '奇妙的宁静\\n苏州河曾经也是有过其低谷期的', '让路过的人捂起口鼻匆匆过桥', '但现在它已然成了人们饭后散步的地方之一', '当夜幕降临', '河边灯光亮起', '从远处看就像一条发光的丝带穿城而过\\n苏州河边大多是过去的老建筑', '有些地方显得杂乱', '能够感受老上海的风情', '河上还有好几座桥', '和老照片对比还是很有意思的', '\\n我曾经有一次和它将在我的记忆中', ' 我的好朋友', ' 也是很棒的天气也很好', ' 你可以感觉到桥上走在breeza这的装饰和移动你的脸你的头发', ' 附近的咖啡店的咖啡市场也很好', ' 还有它的音乐也很好听', '\\n他们让你坐上这艘船', '你会看到一连串的河岸', '几乎看不到什么有趣的景色', '而且', '你不能下船', '也不能把船开回去', '除了价格昂贵之外', '我认为这也是在浪费时间', '\\n我们在这里度过了一个非常放松的前2公里沿着河边漫步到这座桥就在河对面的一个非常漂亮的主路上的餐厅', '\\n苏州河流入黄浦江', '将英租界外滩和日租界虹口区分隔开来', '江的南北两侧都有海滨长廊', '在这里可以眺望浦东地区的摩天大楼', '尤其是站在四川中路大桥上', '动感十足的景色将成为您旅途中的美好回忆', '\\n晚上乘坐游船大约需要 50 分钟', '但非常值得', '  该地区白天很美', '但到了晚上就会熠熠生辉', '  这是我们的一大亮点', '\\n不要将这条河流与黄浦江混淆!!!!什么难忘的散步和前所未有的美景？这条河上可没有!!!!！这只是一条肮脏的棕绿色沟渠', '中国人在这里毫不犹豫地倾倒生活用水', '在这里散步没有任何意义', '有的只是普通的建筑、不起眼的小桥和当地的utrava贸易', '游客不可能对此感兴趣', '\\n游览完外滩后如果有时间', '还可以去人民英雄纪念碑以外的地方', '尤其是在夕阳西下的时候', '沿着运河向内陆继续沿岸漫步', '这是一条不错的步行路线', '可以从另一个角度欣赏上海这座城市', '在这里', '您经常会看到许多新娘或新人在拍摄婚纱照', '\\n去外滩和外白渡桥看日出时', '我沿河而上', '在桥上拍摄浦东', '我沿着苏州河北侧的河边走到下一座桥', '过了桥就是一座漂亮的建筑', '类似于外滩的钟楼', '‼️', '我们在桥上拍了照', '过了桥', '沿着苏州河南侧的河边走回外滩', '如果您有时间', '应该看看从白天跨海大桥往上游看的景色', '\\n上海去苏州是个不错的区域', ' 我们花了1/2小时乘船沿着运河的\"像Gondola”的\"船夫\"', '在一个可爱的小Sang 我们中国人Song', ' 在旅行结束的时候', '我们和当地人一起购物要上岸', '和他们的家人在走道上商店的一个周日的下午', ' 如果你有时间', '有几个小时', '好好利用这个机会', ' 这是一个非常令人放松', '有很多的乐趣', '\\n由于苏州河汇入黄浦江的入口处筑有水坝', '河水已经断流', '因此看到昔日的船只往来', '不免有些伤感', '\\n外白渡桥附近尤其适合观光', '穿婚纱拍照的情侣屡见不鲜', '\\n除非下大雨', '否则这是我通常散步的路线', '这里的水并不干净', '但河滨公园的清晨到处都是忙忙碌碌的人们', '这里还有很多绿色植物', '\\n去之前', '原本以为不怎么样', '后来却觉得说', '风景很漂亮', '像幅画一样', '挺幽静的', '可以坐上小船', '安静的欣赏身边的美景', '适合爱欣赏风景的游客噢', '\\n很棒的城市', '很棒的水的苏州游览这座城市', ' 非常繁忙', '有很好的购买礼品', '值得一看', '\\n在上海浦西地区基本就是各种撞见苏州河', '在外滩有苏州河', '在华师大苏州河', '在批发市场苏州河', '在七浦苏州河', '总之就是无时无刻的苏州河', '补一句', '苏州河有点发展成污水河了', '\\n这条河流经上海', '在俄罗斯大使馆附近的外滩尽头汇入黄浦江', '没有客轮在此航行', '关于这个地方的评论完全混乱', '一些游客描述了他们在黄浦江上的航行', '许多人则分享了他们在苏州运河上的旅行印象', '  沿运河堤岸步行', '最好从市中心一侧走', '那里有小型公园和体育训练场所', '对岸几乎到处都是狭窄的人行道和马路', '清晨散步时', '您会看到一些奇特的景象', '黎明前', '一些桥上会有夜市', '中国人在桥下的某个地方安顿下来过夜', '我不记得下过水', '\\n漫步中国威尼斯....', '这里美丽而古朴', '我们在这里享用了一顿丰盛的午餐和美味可口的茶点', '这个小村庄的人们有着独特的亲切感\\n准备好再去那里吧！任何去过那里的人离开时都想再回去！！！当地社区非常热情友好', '\\n河流', ' 这是一个分支的黄浦江', ' 是一个安静的回水处经过挨着我们的宾馆', ' 我们有一个非常愉快的沿着它走的银行', ' 享受和平和安静', '\\n如果导游提议晚上乘船游览', '您一定要去！城市的美景非同一般', '灯火辉煌', '中国人再次给了我惊喜', '您只需穿得暖和些--甲板上凉风习习', '\\n这是上海必游之地', '春天的下午 6 点', '天色渐渐暗下来', '巨型塔楼的灯光也随之亮起', '其中最引人注目的是 632 米高的上海中心塔和电视塔', '此外', '还有其他一些 400 多米高的塔楼', '与中央塔交相辉映', '再加上灯火通明的游船和长椅', '使这一小时的长廊显得格外迷人', '我们难免会想到', '跨国公司在这里浪费了奢华和金钱', '但当地的劳动力和投资却留在了国内', '一段时间后', '一切将完全掌握在中国人手中', '\\n我们没有机会去参观', ' 但是我们沿着河边走', ' 在我们旅行去其他地区的水上之旅', ' 我强烈建议你在那里的时候至少有一个水上之旅', ' 它会给你一个不同的城市风景然后你会得到什么呢就走', '\\n我想到了日本的河流', '因为它被称为河流', '但是...它又脏又污没有特别的气味', '但是...外滩附近灯火通明', '美不胜收', '\\n您可以从苏州河与黄浦江的交汇处向上游走一小段路', '沿河有殖民地风格的建筑', '从其中一座桥上还可以拍到浦东的美景', '\\n即使有更好的事情可做', '也是一次惬意的散步', '没有 \"+\"', '也没有兴趣', '不是强制性的', '但很好', '否则对我来说就是 NEXT！2005 年 5 月到访\\n苏州河从苏州流出', '注入黄浦江', '江面并不宽阔', '抗战前', '河两岸是纺织厂和其他工厂', '包括日本资本拥有的工厂', '战后', '该地区仍是工业区', '河水受到严重污染', '空气中弥漫着恶臭', '近年来', '大部分工厂都已消失', '河道被房屋取代', '虽然河水并不清澈', '但也没有异味', '\\u3000唯一的景点是与黄浦江交汇处附近的邮电博物馆和外白渡桥', '但从桥上眺望浦江', '回顾浦江的历史也不失为一个好主意', '\\n据朋友说', '这条河现在还不是很干净', '但 20 年前已经脏得散发着怪味', '现在已经清理干净了', '老北路桥就在我住处附近', '清晨和傍晚日落时分', '桥上的景色很美', '中国人经常在这座桥上拍照', '\\n游览不错', '  我不喜欢乘船时演奏的音乐......那是一首长达 20 分钟的民谣', '我当然听不懂', '   不过风景很不错', '\\n在这里', '您可以领略中国的风土人情', '了解一些历史', '乘船游览大运河', '欣赏和漫步小城街道', '\\n大多数评论家都把重点放在苏州河（有时也称苏州河）上的游船上', '不过', '沿着河岸漫步也是可行的', '因为河边通常会有一些人行道、步行道或至少是道路', '最有趣的阶段是靠近外滩的一端', '那里有许多租界时期的精美建筑', '值得欣赏', '在现代化的公寓楼中', '有一些拥有百年历史的货仓、工厂、面粉厂和其他早期工业建筑', '其中一些看起来很有吸引力', '您还可以看到柳树、樱花和其他中国人喜爱的灌木', '所有这些都是为了美化内城而添加的', '\\n这是我们与 ChinaTours 之旅的一个精彩部分', '  我们可以乘船在运河上畅游', '然后在当地人的集市上漫步', '这就像是看到了真实的中国', '\\n我们在苏州度过了一段非常惬意的运河游', '游船的时间安排得恰到好处', '我们到达时天还没亮', '沿着运河游览时', '所有的灯光和灯笼都亮了起来', '舒适的游船和出色的导游让我们尽情享受游船的宁静', '精彩的拍照机会', '中国灯笼令人陶醉', '\\n苏州河原来叫吴淞江', '苏州河流淌着大上海的古老气息', '见证着上海的荣辱兴衰', '周边的建筑更是很有特色！南方建筑风格比较明显', '河两岸加入了现代元素', '有很多小艺术品的摊位', '很值得来这里漫步', '静静地感受', '\\n被许多人称为东方威尼斯', '运河两岸有美丽的石桥、宝塔和古典园林', '运河不太干净', '但您不会接触到水', '一定要有导游陪同', '因为这一带语言不通', '大多数在苏州河附近工作的人都是当地人', '\\n在苏州度过了美好的一天', '我们的导游 Tom Wang (seeyouagaintom@hotmail.ccom) 组织了一次很棒的游河活动', '美丽的游船穿过古城', '随后是人力车之旅', '展示了这座美丽城市的方方面面', '\\n美丽苏州河', '苏州河', '上海的一条小河', '汇入黄浦江', '河穿过市区', '河畔两边高楼林立', '特别夜晚', '景色宜人', '高楼大厦灯光绚烂', '尤其从大厦上俯瞰', '更是然人觉得美丽\\n有河的城市风景如画', '当夕阳西下', '城市开始变色时', '河面上的倒影非常美丽', '从外白水河大桥上眺望河景尤为特别', '\\n苏州是一个拥有五百万人口的 \"小 \"城市', '距离上海两小时车程', '  我乘坐游船游览了苏州河', '这里确实是东方威尼斯--与意大利截然不同', '但非常值得一游', '\\n这是一个让人放松的地方', '不会像导游那样催促我们', '苏州的整个体验非常特别', '充满灵性', '但我们被催得很紧', '影响了我们的兴致', '虽然是一个繁忙的银行假日周末', '但这次体验值得一游', '\\n我们游览了苏州河', '在一个古城门前上了船', '  非常有趣', '也非常惬意', '  我们还在下游的一个市场停了下来', '在市场里漫步', '非常非常有趣', '  这是了解中国日常生活的好方法', '  人们都很友好', '乐于助人', '  河边的景色很美', '河水也很干净', '  总之', '这是一次非常愉快的游览', '我向大家推荐', '\\n苏州河不在苏州', '却在上海', '是不是很有趣？这条河弯曲流过上海市中心', '成为繁华城市中的一道阴柔美', '河道细窄', '河水平静', '名作苏州', '也有道理', '\\n您可以买票乘坐游船环河游览', '不过', '令人失望的是', '河水已被生活废水污染', '不像以前那样......这是一条欣赏苏州古城区的好路线', '\\n苏州河经过治理之后还是很不错的 两边柳树很多 以前是很脏的 现在水看起来还是很青 苏州河上面的桥挺有特色的 几座桥都不一样 风光还是挺好\\n我曾经住在这条河边......并在附近的一所学校工作过', '  这条河景色优美', '船只往来频繁', '  有些河段还有漂亮的步行道', '在龙舟赛期间', '您还能看到许多龙舟在活动', '\\n有很多运营商可供选择', '确保您在上船前了解价格', '有些运营商会向您收取额外费用', '因为他们认为您是无知的游客', '\\n在苏州河上惬意地漂流', '能让人从中国的喧嚣中平静下来', '如果您能听懂普通话', '划船的人还会给您讲当地和这座城市的故事', '\\n在过去的 10 年里', '这里进行了大量的清洁和建设工作', '现在', '这里有了非常漂亮的散步长廊', '  您还可以查看苏州河新游船的信息', '\\n小时候每每走过苏州河都会捂鼻而过', '或者是绕道而行', '那种扑鼻难闻的气味真的让人难以忍受', '后来慢慢的经过了上海人民政府的多方协调和努力', '两岸边经过人工修饰苏州河终于旧美貌换了新颜', '现在的河水变清澈了', '两岸杨柳弯弯', '花儿漂香非常的赏心悦目', '偶而有小船慢慢摇过倒也别有一番意境', '听说慢慢会启动旅游线路', '将有游览船通过此地那也是一道美丽的风景线啊', '人们开始驻足停留在苏州河旁边观赏漂亮风景了起来', '悠闲自得的散散步聊聊天倒是一个好的去处', '苏州河完全改变了原来肮脏的面貌', '我们无不欢欣鼓舞', '\\n在阳光明媚的日子里', '沿着苏州河的某些河段', '尤其是苏州河汇入黄浦江的末端散步', '是一件令人惬意的事', '那里有美丽、古老的历史碑文', '\\n苏州是我们在上海的一日游行程之一', '苏州被誉为 \"东方威尼斯\"', '虽然之前去过威尼斯-意大利', '但这里并不完全等同于威尼斯-意大利', '但足够令人愉悦', '是一个值得一游的地方', '我还参观了 \"拙政园\"', '一位知识渊博的导游为我讲解了这里有趣的历史和背景', '总之', '这一天的游览收获颇丰', '\\n河水清澈见底', '两岸现代建筑林立\\n在苏州河畔漫步', '发现真正的上海\\n如果您去小街探险', '就会有一种时光倒流的感觉', '留意邮局大楼和仓库', '探头探脑', '随意探索', '\\n其实', '我并没有去这个景点', '但我受网站标准的约束', '我们去了苏州', '却发现它令人失望透顶', '所有的宣传资料等都把苏州宣传成一个可爱的古镇', '十年前也许确实如此', '然而', '一进城或一出火车站', '标牌上就应该写着 \"建设中\"', '这里正在进行更多的解构/改造', '让人摸不着头脑', '感官也受到了冲击', '这里肮脏不堪', '空气中弥漫着浓浓的拆迁气息', '绝对不是度假的好去处', '如果你一定要去', '1 号旅游巴士会带你游览整个城市', '终点站是虎山', '实际上', '您不必进入公园', '因为街上的巨幕电视会向您展示公园的全貌', '我拍了一张宝塔的照片', '然后又坐上了开往火车站的巴士', '我们对在那里吃饭不感兴趣', '\\n本想去看看电视剧中的苏州河', '结果有点失望', '和两边都是上海的老旧房子', '和周围的高楼对比起来显得很破旧', '只有一个平安里还有点老上海的味道', '在《情深深雨蒙蒙》里的外摆渡大桥一直是我想去看看的', '但是不行去找一直没找到', '问了一个路人才知道', '因为河道修缮', '原来的大桥被整个移到河的另一段去了', '有点失望！\\n古老的苏州河是上海的母亲河', '养育了无数沪上儿女', '这里有它的历史展馆', '详细讲述它的前世今生', '它是历史治理', '而今天的苏州河已经焕发新姿', '河水清澈', '岸上柳树成荫', '环境非常优美', '非常值得一去的地方', '\\n看过周迅拍的电影叫苏州河', '在上海的时候一路看着地图从南京路溜达到了那里', '看着夕阳落下', '河水静静流过', '别有一番滋味\\n上海的苏州河', '在原先老一辈的眼中', '简直不可想象：脏、乱、危险等等！而今', '再去苏州河', '完全是耳目一新', '整洁宽敞的大桥上车辆川流不息', '\\n苏州的河就像陆地上的马路一样', '贯穿着整个城市', '喜欢苏州的河', '因为他幽静', '坐在船上从这头划向那头', '欣赏着美景', '这种惬意的生活是我们所向往的\\n夜游苏州河', '给人一种如临仙境的感觉', '光怪陆离的灯光', '熙熙攘攘的龙船', '人声鼎沸', '好像回到了唐宋时期的鼎盛', '感受当时的繁华', '\\n苏州河上海', '一个以超级高楼著称的城市', '还是一个很不错的地方', '特别是自2008年调水以来', '这里就变得好多了', '以前的时候我很讨厌到这里来玩人', '但是现我就很喜欢这里了', '在这里来吹吹风', '心情也可支变得很好的', '特别是当自已想去散心的时候！\\n听着阿婆哼唱着糯糯的吴侬软语的家乡小调', '坐在随波荡漾的乌蓬小船中', '顺着苏州河的流向', '缓缓前行', '河岸旁边就是南方小镇独有的特色建筑', '苏州的人们开门就可以取水家用', '饭时可以听到油在锅中欢唱、锅碗瓢盆齐奏的交响乐', '浓重的生活气息围绕身旁', '仿佛走进了名家笔下的油墨画中', '体味穿越时空般的韵味', '\\n旧是的护城河', '本着体验的心态会觉得很美妙~虽然不够宽阔激荡', '虽然不够小巧玲珑', '但是夜景很美', '配合现代的灯光和建筑', '别有一番风韵~小船上有美眉唱苏州评弹', '更是情景交融', '恍若回到千年', '听得评弹婉转', '看得柳叶婀娜~\\n很喜欢这里的感觉', '似曾相识般的邂逅', '浪漫的微风吹出甜甜的味道', '在我的四周蔓延', '让我流连忘返', '难得假日能够亲近一下下大自然呀', 'hohoho', '', '', '\\n']\n"
     ]
    }
   ],
   "source": [
    "import re\n",
    "\n",
    "file_path = r'/Users/elsa/Desktop/爬虫学习/0728学习/中文苏州河标题和内容_内容.txt'\n",
    "with open(file_path, \"r\", encoding='utf-8') as f:  # 打开文件\n",
    "    text = f.read()  # 读取文件\n",
    "result_list = re.split(r'[。，,;]', text) # 按照逗号和句号拆分，两个字符以上切割需要放在 [ ] 中\n",
    "print (result_list)\n",
    "f1 = r'/Users/elsa/Desktop/爬虫学习/0729-多语种词云搭建LastDay/苏州河内容分割_out.txt'\n",
    "with open(f1, 'w', encoding='utf-8') as f2:\n",
    " for j in result_list:\n",
    "    f2.write(j+'\\n')"
   ]
  },
  {
   "cell_type": "markdown",
   "id": "7264be35",
   "metadata": {},
   "source": [
    "# 二、随机抽取数据"
   ]
  },
  {
   "cell_type": "code",
   "execution_count": null,
   "id": "5927c3ab",
   "metadata": {},
   "outputs": [],
   "source": [
    "#获取评论句子数量\n",
    "\n",
    "with open(r\"/Users/elsa/Desktop/爬虫学习/0729-多语种词云搭建LastDay/多语种词云搭建LastDay\\内容分割_out.txt\", 'r') as file:\n",
    "    lines = file.readlines()\n",
    "    print(f\"总行数: {len(lines)}\")\n",
    "\n",
    "#随机抽取评论\n",
    "#sample(x,y)函数的作用是从序列x中，随机选择y个不重复的元素\n",
    "#range(start, stop,step)函数返回数字序列，默认从start开始，默认以 1 递增，并以stop结束。\n",
    "\n",
    "import random\n",
    "from random import randint\n",
    " \n",
    "oldf = open(r\"C:\\Users\\ASUS\\Desktop\\python folder\\基于社交媒体数据的城市公园景感评价\\数据\\基于社交媒体数据的城市公园景感评价_课程数据\\【任务17】基于社交媒体数据的城市公园景感评价\\关卡4\\文本分割\\草稿\\tss_out.txt\", 'r')\n",
    "newf = open(r'c:\\Users\\ASUS\\Desktop\\python folder\\基于社交媒体数据的城市公园景感评价\\数据\\基于社交媒体数据的城市公园景感评价_课程数据\\【任务17】基于社交媒体数据的城市公园景感评价\\关卡4\\随机抽取数据\\草稿\\tss_randomtext.txt', 'w')  \n",
    "n = 0\n",
    "resultList = random.sample(range(0, 3001), 150)\n",
    " \n",
    "lines = oldf.readlines()\n",
    "for i in resultList:\n",
    "    newf.write(lines[i])\n",
    "oldf.close()\n",
    "newf.close()"
   ]
  },
  {
   "cell_type": "markdown",
   "id": "1b7b7b6d",
   "metadata": {},
   "source": [
    "# 三、情绪分析"
   ]
  },
  {
   "cell_type": "markdown",
   "id": "62823021",
   "metadata": {},
   "source": [
    "### 1. 一次性处理（数据量少）"
   ]
  },
  {
   "cell_type": "code",
   "execution_count": null,
   "id": "1a70dd9c",
   "metadata": {},
   "outputs": [
    {
     "name": "stdout",
     "output_type": "stream",
     "text": [
      "[TencentCloudSDKException] code:ClientNetworkError message:HTTPSConnectionPool(host='nlp.tencentcloudapi.com', port=443): Max retries exceeded with url: / (Caused by ProxyError('Cannot connect to proxy.', ConnectionResetError(54, 'Connection reset by peer'))) requestId:None\n",
      "[TencentCloudSDKException] code:ClientNetworkError message:HTTPSConnectionPool(host='nlp.tencentcloudapi.com', port=443): Max retries exceeded with url: / (Caused by ProxyError('Cannot connect to proxy.', ConnectionResetError(54, 'Connection reset by peer'))) requestId:None\n",
      "[TencentCloudSDKException] code:ClientNetworkError message:HTTPSConnectionPool(host='nlp.tencentcloudapi.com', port=443): Max retries exceeded with url: / (Caused by ProxyError('Cannot connect to proxy.', ConnectionResetError(54, 'Connection reset by peer'))) requestId:None\n"
     ]
    },
    {
     "name": "stderr",
     "output_type": "stream",
     "text": [
      "<ipython-input-4-40a9bf09cb82>:79: FutureWarning: The default dtype for empty Series will be 'object' instead of 'float64' in a future version. Specify a dtype explicitly to silence this warning.\n",
      "  data[['积极','消极','情绪极性']] = data['情绪极性'].apply(pd.Series)\n",
      "<ipython-input-4-40a9bf09cb82>:79: FutureWarning: The default dtype for empty Series will be 'object' instead of 'float64' in a future version. Specify a dtype explicitly to silence this warning.\n",
      "  data[['积极','消极','情绪极性']] = data['情绪极性'].apply(pd.Series)\n",
      "<ipython-input-4-40a9bf09cb82>:79: FutureWarning: The default dtype for empty Series will be 'object' instead of 'float64' in a future version. Specify a dtype explicitly to silence this warning.\n",
      "  data[['积极','消极','情绪极性']] = data['情绪极性'].apply(pd.Series)\n",
      "<ipython-input-4-40a9bf09cb82>:81: UserWarning: Pandas requires version '1.4.3' or newer of 'xlsxwriter' (version '1.3.8' currently installed).\n",
      "  data.to_excel('0729苏州河result.xlsx')\n"
     ]
    }
   ],
   "source": [
    "import json\n",
    "from tencentcloud.common import credential\n",
    "# 导入可选配置项\n",
    "from tencentcloud.common.profile.client_profile import ClientProfile\n",
    "from tencentcloud.common.profile.http_profile import HttpProfile\n",
    "from tencentcloud.common.exception.tencent_cloud_sdk_exception import TencentCloudSDKException\n",
    "# 导入对应产品模块的 client models。\n",
    "from tencentcloud.nlp.v20190408 import nlp_client, models\n",
    "\n",
    "def get_sentiment(text):\n",
    "    try: \n",
    "        # 实例化一个认证对象，入参需要传入腾讯云账户 secretId，secretKey\n",
    "        cred = credential.Credential(\"腾讯云账户\")  \n",
    "        \n",
    "        # 实例化一个 http 选项，可选的，没有特殊需求可以跳过。\n",
    "        httpProfile = HttpProfile()\n",
    "        httpProfile.endpoint = \"nlp.tencentcloudapi.com\"\n",
    "        \n",
    "        # 实例化一个 client 选项，可选的，没有特殊需求可以跳过。\n",
    "            # 实例化一个 client 选项，可选的，没有特殊需求可以跳过。\n",
    "        clientProfile = ClientProfile()\n",
    "        clientProfile.httpProfile = httpProfile\n",
    "\n",
    "        \n",
    "        # 实例化要请求产品 (以 cvm 为例) 的 client 对象\n",
    "        # client = cvm_client.CvmClient(cred, \"ap-shanghai\")\n",
    "        client = nlp_client.NlpClient(cred, \"ap-guangzhou\", clientProfile) \n",
    "        # print(dir(client))\n",
    "        \n",
    "        # 实例化一个请求对象\n",
    "        # req = models.DescribeZonesRequest()\n",
    "        req = models.AnalyzeSentimentRequest()\n",
    "        \n",
    "        # 这里还支持以标准 json 格式的 string 来赋值请求参数的方式。\n",
    "        params = {\n",
    "            \"Text\": text,\n",
    "            \n",
    "            # Flag 选填 待分析文本所属的类型\n",
    "            # 仅当输入参数Mode取值为2class时有效（默认取4值）\n",
    "            # 1、商品评论类 2、社交类 3、美食酒店类 4、通用领域类\n",
    "            'Flag' :4,\n",
    "            \n",
    "            # Mode 选填 情感分类模式选项，\n",
    "            # 可取2class或3class（默认值为2class） \n",
    "            # 1、2class：返回正负面二分类情感结果 2、3class：返回正负面及中性三分类情感结果\n",
    "            \"Mode\": \"2class\"\n",
    "        }\n",
    "        req.from_json_string(json.dumps(params))\n",
    "        \n",
    "        # 通过 client 对象调用想要访问的接口，需要传入请求对象\n",
    "        resp = client.AnalyzeSentiment(req)\n",
    "        # 输出 json 格式的字符串回包\n",
    "        j = json.loads(resp.to_json_string())\n",
    "        \n",
    "        return [j['Positive'],j['Negative'],j['Sentiment']]\n",
    "    except TencentCloudSDKException as err: \n",
    "        print(err)\n",
    "        \n",
    "\n",
    "# get_sentiment(text = '你吃过了吗')\n",
    "\n",
    "import pandas as pd\n",
    "import numpy as np\n",
    "import os\n",
    "import jieba \n",
    "\n",
    "txt_path = '/Users/elsa/Desktop/爬虫学习/0729-多语种词云搭建LastDay/苏州河内容分割_out.txt'\n",
    "\n",
    "with open(txt_path, 'r', encoding='utf-8') as f:\n",
    "    lines = [line.strip() for line in f if line.strip()]\n",
    "\n",
    "os.chdir(r\"/Users/elsa/Desktop/爬虫学习/0729-多语种词云搭建LastDay\")\n",
    "data = pd.DataFrame(lines, columns=['内容'])\n",
    "\n",
    "\n",
    "data['情绪极性'] = data['内容'].apply(get_sentiment)\n",
    "\n",
    "# 使用 apply 将 dataframe 中内容为 list 的列拆分为多列\n",
    "data[['积极','消极','情绪极性']] = data['情绪极性'].apply(pd.Series)\n",
    "data = data.drop('情绪极性',axis=1)\n",
    "data.to_excel('0729苏州河result.xlsx')"
   ]
  },
  {
   "cell_type": "markdown",
   "id": "0c88db41",
   "metadata": {},
   "source": [
    "### 2.分批运行（数据量大）"
   ]
  },
  {
   "cell_type": "code",
   "execution_count": null,
   "id": "c74e44b7",
   "metadata": {
    "tags": [
     "parameters"
    ]
   },
   "outputs": [
    {
     "name": "stdout",
     "output_type": "stream",
     "text": [
      "\n",
      "正在处理第1/20批, 行数: 0~676\n",
      "[TencentCloudSDKException] code:ClientNetworkError message:HTTPSConnectionPool(host='nlp.tencentcloudapi.com', port=443): Max retries exceeded with url: / (Caused by ProxyError('Cannot connect to proxy.', ConnectionResetError(54, 'Connection reset by peer'))) requestId:None\n",
      "[TencentCloudSDKException] code:ClientNetworkError message:HTTPSConnectionPool(host='nlp.tencentcloudapi.com', port=443): Max retries exceeded with url: / (Caused by ProxyError('Cannot connect to proxy.', ConnectionResetError(54, 'Connection reset by peer'))) requestId:None\n",
      "                  内容        积极        消极\n",
      "0  一边是摩天大楼林立的超现代化金融区  0.004248  0.003582\n",
      "1        另一边则是古老的建筑群  0.007310  0.009877\n",
      "2          游船也是必不可少的  0.002925  0.009687\n",
      "3     上海是一条河流孕育了一座城市  0.002587  0.076110\n",
      "4      这条浅水河流的通航能力很强  0.408357  0.072367\n",
      "第1批已保存，累计处理677行。\n"
     ]
    },
    {
     "name": "stderr",
     "output_type": "stream",
     "text": [
      "<ipython-input-15-99a140217bfb>:58: UserWarning: Pandas requires version '1.4.3' or newer of 'xlsxwriter' (version '1.3.8' currently installed).\n",
      "  batch.to_excel(f'0729result_part{i+1}.xlsx', index=False)\n"
     ]
    },
    {
     "name": "stdout",
     "output_type": "stream",
     "text": [
      "\n",
      "正在处理第2/20批, 行数: 677~1353\n",
      "[TencentCloudSDKException] code:ClientNetworkError message:HTTPSConnectionPool(host='nlp.tencentcloudapi.com', port=443): Max retries exceeded with url: / (Caused by ProxyError('Cannot connect to proxy.', ConnectionResetError(54, 'Connection reset by peer'))) requestId:None\n",
      "                 内容        积极        消极\n",
      "677        晚上巡游是值得的  0.450098  0.004228\n",
      "678        每个塔都被照亮了  0.003736  0.005861\n",
      "679     上海只是一个美丽的城市  0.063047  0.022479\n",
      "680  浦东和外滩之间有一条很宽的河  0.016004  0.009009\n",
      "681      河上经常有游轮和渡船  0.007627  0.003807\n",
      "第2批已保存，累计处理1354行。\n"
     ]
    },
    {
     "name": "stderr",
     "output_type": "stream",
     "text": [
      "<ipython-input-15-99a140217bfb>:58: UserWarning: Pandas requires version '1.4.3' or newer of 'xlsxwriter' (version '1.3.8' currently installed).\n",
      "  batch.to_excel(f'0729result_part{i+1}.xlsx', index=False)\n"
     ]
    },
    {
     "name": "stdout",
     "output_type": "stream",
     "text": [
      "\n",
      "正在处理第3/20批, 行数: 1354~2030\n",
      "[TencentCloudSDKException] code:ClientNetworkError message:HTTPSConnectionPool(host='nlp.tencentcloudapi.com', port=443): Max retries exceeded with url: / (Caused by ProxyError('Cannot connect to proxy.', ConnectionResetError(54, 'Connection reset by peer'))) requestId:None\n",
      "[TencentCloudSDKException] code:ClientNetworkError message:HTTPSConnectionPool(host='nlp.tencentcloudapi.com', port=443): Max retries exceeded with url: / (Caused by ProxyError('Cannot connect to proxy.', ConnectionResetError(54, 'Connection reset by peer'))) requestId:None\n",
      "                内容        积极        消极\n",
      "1354       但是人實在太多  0.022934  0.037811\n",
      "1355   平日來這裏會比較好一點  0.338035  0.023591\n",
      "1356  我來到上海也是值得一去的  0.176005  0.005090\n",
      "1357          沿河漫步  0.593707  0.005261\n",
      "1358     安全宽阔的林荫大道  0.125750  0.011822\n",
      "第3批已保存，累计处理2031行。\n"
     ]
    },
    {
     "name": "stderr",
     "output_type": "stream",
     "text": [
      "<ipython-input-15-99a140217bfb>:58: UserWarning: Pandas requires version '1.4.3' or newer of 'xlsxwriter' (version '1.3.8' currently installed).\n",
      "  batch.to_excel(f'0729result_part{i+1}.xlsx', index=False)\n"
     ]
    },
    {
     "name": "stdout",
     "output_type": "stream",
     "text": [
      "\n",
      "正在处理第4/20批, 行数: 2031~2707\n",
      "[TencentCloudSDKException] code:ClientNetworkError message:HTTPSConnectionPool(host='nlp.tencentcloudapi.com', port=443): Max retries exceeded with url: / (Caused by ProxyError('Cannot connect to proxy.', ConnectionResetError(54, 'Connection reset by peer'))) requestId:None\n",
      "                   内容        积极        消极\n",
      "2031           这里人潮汹涌  0.005366  0.045179\n",
      "2032         警方管理较为严格  0.387698  0.076390\n",
      "2033      我建议沿着左右两侧步行  0.009313  0.004745\n",
      "2034  因为两边都有风景优美的观景地点  0.322045  0.006493\n",
      "2035           如果时间充裕  0.007960  0.003421\n",
      "第4批已保存，累计处理2708行。\n"
     ]
    },
    {
     "name": "stderr",
     "output_type": "stream",
     "text": [
      "<ipython-input-15-99a140217bfb>:58: UserWarning: Pandas requires version '1.4.3' or newer of 'xlsxwriter' (version '1.3.8' currently installed).\n",
      "  batch.to_excel(f'0729result_part{i+1}.xlsx', index=False)\n"
     ]
    },
    {
     "name": "stdout",
     "output_type": "stream",
     "text": [
      "\n",
      "正在处理第5/20批, 行数: 2708~3384\n",
      "[TencentCloudSDKException] code:ClientNetworkError message:HTTPSConnectionPool(host='nlp.tencentcloudapi.com', port=443): Max retries exceeded with url: / (Caused by ProxyError('Cannot connect to proxy.', ConnectionResetError(54, 'Connection reset by peer'))) requestId:None\n",
      "[TencentCloudSDKException] code:ClientNetworkError message:HTTPSConnectionPool(host='nlp.tencentcloudapi.com', port=443): Max retries exceeded with url: / (Caused by ProxyError('Cannot connect to proxy.', ConnectionResetError(54, 'Connection reset by peer'))) requestId:None\n",
      "[TencentCloudSDKException] code:ClientNetworkError message:HTTPSConnectionPool(host='nlp.tencentcloudapi.com', port=443): Max retries exceeded with url: / (Caused by ProxyError('Cannot connect to proxy.', ConnectionResetError(54, 'Connection reset by peer'))) requestId:None\n",
      "                内容        积极        消极\n",
      "2708  如果您想乘坐轮渡游览外滩  0.009164  0.003333\n",
      "2709      可以利用这个平台       NaN       NaN\n",
      "2710    白天可以欣赏外滩美景  0.440850  0.004253\n",
      "2711         晚上则更佳  0.212545  0.006982\n",
      "2712  因为整个区域都亮起了灯光  0.029167  0.121302\n",
      "第5批已保存，累计处理3385行。\n"
     ]
    },
    {
     "name": "stderr",
     "output_type": "stream",
     "text": [
      "<ipython-input-15-99a140217bfb>:58: UserWarning: Pandas requires version '1.4.3' or newer of 'xlsxwriter' (version '1.3.8' currently installed).\n",
      "  batch.to_excel(f'0729result_part{i+1}.xlsx', index=False)\n"
     ]
    },
    {
     "name": "stdout",
     "output_type": "stream",
     "text": [
      "\n",
      "正在处理第6/20批, 行数: 3385~4061\n",
      "[TencentCloudSDKException] code:ClientNetworkError message:HTTPSConnectionPool(host='nlp.tencentcloudapi.com', port=443): Max retries exceeded with url: / (Caused by ProxyError('Cannot connect to proxy.', ConnectionResetError(54, 'Connection reset by peer'))) requestId:None\n",
      "[TencentCloudSDKException] code:ClientNetworkError message:HTTPSConnectionPool(host='nlp.tencentcloudapi.com', port=443): Max retries exceeded with url: / (Caused by ProxyError('Cannot connect to proxy.', ConnectionResetError(54, 'Connection reset by peer'))) requestId:None\n",
      "                       内容        积极        消极\n",
      "3385           还是与爱人或朋友一起  0.082688  0.004981\n",
      "3386       我总会抽出时间到黄浦江边散步  0.004453  0.004600\n",
      "3387        黄浦江的光影和情调变幻无穷  0.010483  0.134898\n",
      "3388                  不用说  0.003090  0.154469\n",
      "3389  清晨或傍晚漫步本身就是一件令人愉悦的事  0.053053  0.010832\n",
      "第6批已保存，累计处理4062行。\n"
     ]
    },
    {
     "name": "stderr",
     "output_type": "stream",
     "text": [
      "<ipython-input-15-99a140217bfb>:58: UserWarning: Pandas requires version '1.4.3' or newer of 'xlsxwriter' (version '1.3.8' currently installed).\n",
      "  batch.to_excel(f'0729result_part{i+1}.xlsx', index=False)\n"
     ]
    },
    {
     "name": "stdout",
     "output_type": "stream",
     "text": [
      "\n",
      "正在处理第7/20批, 行数: 4062~4738\n",
      "[TencentCloudSDKException] code:ClientNetworkError message:HTTPSConnectionPool(host='nlp.tencentcloudapi.com', port=443): Max retries exceeded with url: / (Caused by ProxyError('Cannot connect to proxy.', ConnectionResetError(54, 'Connection reset by peer'))) requestId:None\n",
      "[TencentCloudSDKException] code:ClientNetworkError message:HTTPSConnectionPool(host='nlp.tencentcloudapi.com', port=443): Max retries exceeded with url: / (Caused by ProxyError('Cannot connect to proxy.', ConnectionResetError(54, 'Connection reset by peer'))) requestId:None\n",
      "                                 内容        积极        消极\n",
      "4062  即来自黄浦江的蓝灰色水、来自东海的蓝色水和来自长江的黄色水  0.001394  0.083466\n",
      "4063                            在浦西  0.005518  0.044857\n",
      "4064                你会看到充满异国情调的欧式建筑  0.021513  0.035406\n",
      "4065                            在浦西  0.005518  0.044857\n",
      "4066           您会看到充满异国情调的欧式建筑；而在浦东  0.024653  0.013438\n",
      "第7批已保存，累计处理4739行。\n"
     ]
    },
    {
     "name": "stderr",
     "output_type": "stream",
     "text": [
      "<ipython-input-15-99a140217bfb>:58: UserWarning: Pandas requires version '1.4.3' or newer of 'xlsxwriter' (version '1.3.8' currently installed).\n",
      "  batch.to_excel(f'0729result_part{i+1}.xlsx', index=False)\n"
     ]
    },
    {
     "name": "stdout",
     "output_type": "stream",
     "text": [
      "\n",
      "正在处理第8/20批, 行数: 4739~5415\n",
      "[TencentCloudSDKException] code:ClientNetworkError message:HTTPSConnectionPool(host='nlp.tencentcloudapi.com', port=443): Max retries exceeded with url: / (Caused by ProxyError('Cannot connect to proxy.', ConnectionResetError(54, 'Connection reset by peer'))) requestId:None\n",
      "[TencentCloudSDKException] code:ClientNetworkError message:HTTPSConnectionPool(host='nlp.tencentcloudapi.com', port=443): Max retries exceeded with url: / (Caused by ProxyError('Cannot connect to proxy.', ConnectionResetError(54, 'Connection reset by peer'))) requestId:None\n",
      "                            内容        积极        消极\n",
      "4739          而最惬意的时光莫过于乘坐水上餐厅  0.037558  0.064518\n",
      "4740                    一边享用美食  0.224679  0.005728\n",
      "4741             一边欣赏河上地标建筑的灯光  0.092632  0.205517\n",
      "4742       这是包含在我们的巴士之旅48小时大巡游  0.020180  0.003314\n",
      "4743  我们乘坐一辆私人游艇（最多12个乘客）和享受风景  0.010402  0.015448\n",
      "第8批已保存，累计处理5416行。\n"
     ]
    },
    {
     "name": "stderr",
     "output_type": "stream",
     "text": [
      "<ipython-input-15-99a140217bfb>:58: UserWarning: Pandas requires version '1.4.3' or newer of 'xlsxwriter' (version '1.3.8' currently installed).\n",
      "  batch.to_excel(f'0729result_part{i+1}.xlsx', index=False)\n"
     ]
    },
    {
     "name": "stdout",
     "output_type": "stream",
     "text": [
      "\n",
      "正在处理第9/20批, 行数: 5416~6092\n",
      "[TencentCloudSDKException] code:ClientNetworkError message:HTTPSConnectionPool(host='nlp.tencentcloudapi.com', port=443): Max retries exceeded with url: / (Caused by ProxyError('Cannot connect to proxy.', ConnectionResetError(54, 'Connection reset by peer'))) requestId:None\n",
      "                                             内容        积极        消极\n",
      "5416  不幸的是因为白天的时候我们就是这样做的原因是因为它好多好但晚上有令人惊叹的城市灯光  0.115458  0.029527\n",
      "5417                     我们去了外滩的白天和不可思议的景色真的很享受  0.131819  0.046682\n",
      "5418                             新的高科技建筑和货运船在河上  0.113849  0.043042\n",
      "5419                              我们的游船在8点真是棒极了  0.657990  0.015586\n",
      "5420                                   所有的建筑都很亮  0.631268  0.005144\n",
      "第9批已保存，累计处理6093行。\n"
     ]
    },
    {
     "name": "stderr",
     "output_type": "stream",
     "text": [
      "<ipython-input-15-99a140217bfb>:58: UserWarning: Pandas requires version '1.4.3' or newer of 'xlsxwriter' (version '1.3.8' currently installed).\n",
      "  batch.to_excel(f'0729result_part{i+1}.xlsx', index=False)\n"
     ]
    },
    {
     "name": "stdout",
     "output_type": "stream",
     "text": [
      "\n",
      "正在处理第10/20批, 行数: 6093~6769\n",
      "[TencentCloudSDKException] code:ClientNetworkError message:HTTPSConnectionPool(host='nlp.tencentcloudapi.com', port=443): Max retries exceeded with url: / (Caused by ProxyError('Cannot connect to proxy.', ConnectionResetError(54, 'Connection reset by peer'))) requestId:None\n",
      "[TencentCloudSDKException] code:ClientNetworkError message:HTTPSConnectionPool(host='nlp.tencentcloudapi.com', port=443): Max retries exceeded with url: / (Caused by ProxyError('Cannot connect to proxy.', ConnectionResetError(54, 'Connection reset by peer'))) requestId:None\n",
      "[TencentCloudSDKException] code:ClientNetworkError message:HTTPSConnectionPool(host='nlp.tencentcloudapi.com', port=443): Max retries exceeded with url: / (Caused by ProxyError('Cannot connect to proxy.', ConnectionResetError(54, 'Connection reset by peer'))) requestId:None\n",
      "                           内容        积极        消极\n",
      "6093  它甚至还可以看小鸟捉鱼中间所以有点了一切的事情  0.024486  0.131341\n",
      "6094              它由美丽的建筑组合而成  0.091947  0.016881\n",
      "6095                     独具特色  0.076498  0.133174\n",
      "6096                 无论白天还是夜晚  0.017267  0.125844\n",
      "6097                  你都不会错过它  0.301770  0.069287\n",
      "第10批已保存，累计处理6770行。\n"
     ]
    },
    {
     "name": "stderr",
     "output_type": "stream",
     "text": [
      "<ipython-input-15-99a140217bfb>:58: UserWarning: Pandas requires version '1.4.3' or newer of 'xlsxwriter' (version '1.3.8' currently installed).\n",
      "  batch.to_excel(f'0729result_part{i+1}.xlsx', index=False)\n"
     ]
    },
    {
     "name": "stdout",
     "output_type": "stream",
     "text": [
      "\n",
      "正在处理第11/20批, 行数: 6770~7446\n",
      "[TencentCloudSDKException] code:ClientNetworkError message:HTTPSConnectionPool(host='nlp.tencentcloudapi.com', port=443): Max retries exceeded with url: / (Caused by ProxyError('Cannot connect to proxy.', ConnectionResetError(54, 'Connection reset by peer'))) requestId:None\n",
      "[TencentCloudSDKException] code:ClientNetworkError message:HTTPSConnectionPool(host='nlp.tencentcloudapi.com', port=443): Max retries exceeded with url: / (Caused by ProxyError('Cannot connect to proxy.', ConnectionResetError(54, 'Connection reset by peer'))) requestId:None\n",
      "                                      内容        积极        消极\n",
      "6770                            我建议您乘坐游轮  0.004307  0.004226\n",
      "6771                            在江面上拍照留念  0.011325  0.006315\n",
      "6772                                  难忘  0.019505  0.352252\n",
      "6773                   夜晚的灯光很是比香港乘船在我们看来  0.025095  0.039200\n",
      "6774  东方明珠电视塔通过各种颜色的灯光还有珍珠的颜色更改雨滴在沿着河边的树  0.171396  0.009907\n",
      "第11批已保存，累计处理7447行。\n"
     ]
    },
    {
     "name": "stderr",
     "output_type": "stream",
     "text": [
      "<ipython-input-15-99a140217bfb>:58: UserWarning: Pandas requires version '1.4.3' or newer of 'xlsxwriter' (version '1.3.8' currently installed).\n",
      "  batch.to_excel(f'0729result_part{i+1}.xlsx', index=False)\n"
     ]
    },
    {
     "name": "stdout",
     "output_type": "stream",
     "text": [
      "\n",
      "正在处理第12/20批, 行数: 7447~8123\n",
      "[TencentCloudSDKException] code:ClientNetworkError message:HTTPSConnectionPool(host='nlp.tencentcloudapi.com', port=443): Max retries exceeded with url: / (Caused by ProxyError('Cannot connect to proxy.', ConnectionResetError(54, 'Connection reset by peer'))) requestId:None\n",
      "                    内容        积极        消极\n",
      "7447             一侧是河岸  0.006633  0.012293\n",
      "7448          另一侧是现代建筑  0.003225  0.004082\n",
      "7449       看起来就像电影....  0.004353  0.005706\n",
      "7450  还有很多当地人骑着自行车和直排轮  0.037733  0.045122\n",
      "7451    新旧Great River的  0.018625  0.080288\n",
      "第12批已保存，累计处理8124行。\n"
     ]
    },
    {
     "name": "stderr",
     "output_type": "stream",
     "text": [
      "<ipython-input-15-99a140217bfb>:58: UserWarning: Pandas requires version '1.4.3' or newer of 'xlsxwriter' (version '1.3.8' currently installed).\n",
      "  batch.to_excel(f'0729result_part{i+1}.xlsx', index=False)\n"
     ]
    },
    {
     "name": "stdout",
     "output_type": "stream",
     "text": [
      "\n",
      "正在处理第13/20批, 行数: 8124~8800\n",
      "[TencentCloudSDKException] code:ClientNetworkError message:HTTPSConnectionPool(host='nlp.tencentcloudapi.com', port=443): Max retries exceeded with url: / (Caused by ProxyError('Cannot connect to proxy.', ConnectionResetError(54, 'Connection reset by peer'))) requestId:None\n",
      "                                         内容        积极        消极\n",
      "8124                                    遊艇等  0.001729  0.007696\n",
      "8125                 水面都是反映著岸上大型廣告牌及觀光船上的燈光  0.038090  0.102639\n",
      "8126                                 感覺很商業化  0.403228  0.021626\n",
      "8127                         这条河是在上海的一个重要景点  0.023122  0.039901\n",
      "8128  在这河还有一个可以预订约80 - 100 CNY Sails Cruise  0.004869  0.566039\n",
      "第13批已保存，累计处理8801行。\n"
     ]
    },
    {
     "name": "stderr",
     "output_type": "stream",
     "text": [
      "<ipython-input-15-99a140217bfb>:58: UserWarning: Pandas requires version '1.4.3' or newer of 'xlsxwriter' (version '1.3.8' currently installed).\n",
      "  batch.to_excel(f'0729result_part{i+1}.xlsx', index=False)\n"
     ]
    },
    {
     "name": "stdout",
     "output_type": "stream",
     "text": [
      "\n",
      "正在处理第14/20批, 行数: 8801~9477\n",
      "[TencentCloudSDKException] code:ClientNetworkError message:HTTPSConnectionPool(host='nlp.tencentcloudapi.com', port=443): Max retries exceeded with url: / (Caused by ProxyError('Cannot connect to proxy.', ConnectionResetError(54, 'Connection reset by peer'))) requestId:None\n",
      "[TencentCloudSDKException] code:ClientNetworkError message:HTTPSConnectionPool(host='nlp.tencentcloudapi.com', port=443): Max retries exceeded with url: / (Caused by ProxyError('Cannot connect to proxy.', ConnectionResetError(54, 'Connection reset by peer'))) requestId:None\n",
      "                          内容        积极        消极\n",
      "8801                浦江都是必游之地  0.003588  0.006171\n",
      "8802                因为这里活动不断  0.006051  0.135600\n",
      "8803                大小船只川流不息  0.003356  0.052421\n",
      "8804  黄浦江将外滩和浦东两岸的历史和经济联系在一起  0.011601  0.003987\n",
      "8805  乘坐游轮游览黄浦江也是欣赏建筑美景的绝佳方式  0.313929  0.007325\n",
      "第14批已保存，累计处理9478行。\n"
     ]
    },
    {
     "name": "stderr",
     "output_type": "stream",
     "text": [
      "<ipython-input-15-99a140217bfb>:58: UserWarning: Pandas requires version '1.4.3' or newer of 'xlsxwriter' (version '1.3.8' currently installed).\n",
      "  batch.to_excel(f'0729result_part{i+1}.xlsx', index=False)\n"
     ]
    },
    {
     "name": "stdout",
     "output_type": "stream",
     "text": [
      "\n",
      "正在处理第15/20批, 行数: 9478~10154\n",
      "[TencentCloudSDKException] code:ClientNetworkError message:HTTPSConnectionPool(host='nlp.tencentcloudapi.com', port=443): Max retries exceeded with url: / (Caused by ProxyError('Cannot connect to proxy.', ConnectionResetError(54, 'Connection reset by peer'))) requestId:None\n",
      "[TencentCloudSDKException] code:ClientNetworkError message:HTTPSConnectionPool(host='nlp.tencentcloudapi.com', port=443): Max retries exceeded with url: / (Caused by ProxyError('Cannot connect to proxy.', ConnectionResetError(54, 'Connection reset by peer'))) requestId:None\n",
      "[TencentCloudSDKException] code:ClientNetworkError message:HTTPSConnectionPool(host='nlp.tencentcloudapi.com', port=443): Max retries exceeded with url: / (Caused by ProxyError('Cannot connect to proxy.', ConnectionResetError(54, 'Connection reset by peer'))) requestId:None\n",
      "                         内容        积极        消极\n",
      "9478    并欣赏了外滩和乌钦邦的夜景大约一个小时  0.052682  0.004266\n",
      "9479  而黄浦河两边的古老和新的上海建筑物非常美丽  0.291042  0.006987\n",
      "9480          我能够体验到上海的壮观景象  0.053413  0.004493\n",
      "9481                这是不足的发展  0.030737  0.086698\n",
      "9482          摘要： 这条河是城市的中心  0.045971  0.072866\n",
      "第15批已保存，累计处理10155行。\n"
     ]
    },
    {
     "name": "stderr",
     "output_type": "stream",
     "text": [
      "<ipython-input-15-99a140217bfb>:58: UserWarning: Pandas requires version '1.4.3' or newer of 'xlsxwriter' (version '1.3.8' currently installed).\n",
      "  batch.to_excel(f'0729result_part{i+1}.xlsx', index=False)\n"
     ]
    },
    {
     "name": "stdout",
     "output_type": "stream",
     "text": [
      "\n",
      "正在处理第16/20批, 行数: 10155~10831\n",
      "[TencentCloudSDKException] code:ClientNetworkError message:HTTPSConnectionPool(host='nlp.tencentcloudapi.com', port=443): Max retries exceeded with url: / (Caused by ProxyError('Cannot connect to proxy.', ConnectionResetError(54, 'Connection reset by peer'))) requestId:None\n",
      "                  内容        积极        消极\n",
      "10155            乘船后  0.001876  0.014408\n",
      "10156    在上层甲板找个座位坐下  0.001525  0.006452\n",
      "10157  欣赏外滩和浦东两端的灯光秀  0.098661  0.037126\n",
      "10158    我们住在外滩的一家酒店  0.005487  0.003870\n",
      "10159     轮渡码头步行即可到达  0.064150  0.003819\n",
      "第16批已保存，累计处理10832行。\n"
     ]
    },
    {
     "name": "stderr",
     "output_type": "stream",
     "text": [
      "<ipython-input-15-99a140217bfb>:58: UserWarning: Pandas requires version '1.4.3' or newer of 'xlsxwriter' (version '1.3.8' currently installed).\n",
      "  batch.to_excel(f'0729result_part{i+1}.xlsx', index=False)\n"
     ]
    },
    {
     "name": "stdout",
     "output_type": "stream",
     "text": [
      "\n",
      "正在处理第17/20批, 行数: 10832~11508\n",
      "                             内容        积极        消极\n",
      "10832      如果知道 20 多年前这里还只是一片草地  0.001201  0.112578\n",
      "10833                  那就更值得一游了  0.304719  0.002972\n",
      "10834  黄浦江的夜景因广告船和巨大的灯光广告牌而更加美丽  0.056356  0.008397\n",
      "10835         有几幢大楼在夜晚变成了巨大的广告牌  0.004106  0.011777\n",
      "10836           你可以在那里看到一些新闻和广告  0.003944  0.005724\n",
      "第17批已保存，累计处理11509行。\n"
     ]
    },
    {
     "name": "stderr",
     "output_type": "stream",
     "text": [
      "<ipython-input-15-99a140217bfb>:58: UserWarning: Pandas requires version '1.4.3' or newer of 'xlsxwriter' (version '1.3.8' currently installed).\n",
      "  batch.to_excel(f'0729result_part{i+1}.xlsx', index=False)\n"
     ]
    },
    {
     "name": "stdout",
     "output_type": "stream",
     "text": [
      "\n",
      "正在处理第18/20批, 行数: 11509~12185\n",
      "                          内容        积极        消极\n",
      "11509  巡游这条河确实是一个欣赏城镇的景色的好主意  0.813245  0.009339\n",
      "11510                   从河中看  0.093637  0.021971\n",
      "11511             海湾和朴上的印象深刻  0.037395  0.019792\n",
      "11512            这条河是上海存在的关键  0.001359  0.062895\n",
      "11513           并且仍然忙于大量商业运输  0.009244  0.008104\n",
      "第18批已保存，累计处理12186行。\n"
     ]
    },
    {
     "name": "stderr",
     "output_type": "stream",
     "text": [
      "<ipython-input-15-99a140217bfb>:58: UserWarning: Pandas requires version '1.4.3' or newer of 'xlsxwriter' (version '1.3.8' currently installed).\n",
      "  batch.to_excel(f'0729result_part{i+1}.xlsx', index=False)\n"
     ]
    },
    {
     "name": "stdout",
     "output_type": "stream",
     "text": [
      "\n",
      "正在处理第19/20批, 行数: 12186~12862\n",
      "[TencentCloudSDKException] code:ClientNetworkError message:HTTPSConnectionPool(host='nlp.tencentcloudapi.com', port=443): Max retries exceeded with url: / (Caused by ProxyError('Cannot connect to proxy.', ConnectionResetError(54, 'Connection reset by peer'))) requestId:None\n",
      "                内容        积极        消极\n",
      "12186          同样的  0.073734  0.012763\n",
      "12187      如果你想去船头  0.002113  0.016587\n",
      "12188   船员要收你 30 元  0.001139  0.015761\n",
      "12189  而且你还可以使用休息室  0.015241  0.004701\n",
      "12190      三振出局！所以  0.067252  0.011399\n",
      "第19批已保存，累计处理12863行。\n"
     ]
    },
    {
     "name": "stderr",
     "output_type": "stream",
     "text": [
      "<ipython-input-15-99a140217bfb>:58: UserWarning: Pandas requires version '1.4.3' or newer of 'xlsxwriter' (version '1.3.8' currently installed).\n",
      "  batch.to_excel(f'0729result_part{i+1}.xlsx', index=False)\n"
     ]
    },
    {
     "name": "stdout",
     "output_type": "stream",
     "text": [
      "\n",
      "正在处理第20/20批, 行数: 12863~13529\n",
      "[TencentCloudSDKException] code:ClientNetworkError message:HTTPSConnectionPool(host='nlp.tencentcloudapi.com', port=443): Max retries exceeded with url: / (Caused by ProxyError('Cannot connect to proxy.', ConnectionResetError(54, 'Connection reset by peer'))) requestId:None\n",
      "[TencentCloudSDKException] code:ClientNetworkError message:HTTPSConnectionPool(host='nlp.tencentcloudapi.com', port=443): Max retries exceeded with url: / (Caused by ProxyError('Cannot connect to proxy.', ConnectionResetError(54, 'Connection reset by peer'))) requestId:None\n",
      "                      内容        积极        消极\n",
      "12863  您就会明白这座城市发生了多大的变化  0.004434  0.020421\n",
      "12864         一定要去海滨长廊看看  0.004830  0.013707\n",
      "12865        一定要试试去浦东的轮渡  0.007608  0.002855\n",
      "12866             票价 2 元  0.000932  0.020643\n",
      "12867     黄浦江自南向北贯穿上海市中心  0.026578  0.125300\n",
      "第20批已保存，累计处理13530行。\n"
     ]
    },
    {
     "name": "stderr",
     "output_type": "stream",
     "text": [
      "<ipython-input-15-99a140217bfb>:58: UserWarning: Pandas requires version '1.4.3' or newer of 'xlsxwriter' (version '1.3.8' currently installed).\n",
      "  batch.to_excel(f'0729result_part{i+1}.xlsx', index=False)\n",
      "<ipython-input-15-99a140217bfb>:65: UserWarning: Pandas requires version '1.4.3' or newer of 'xlsxwriter' (version '1.3.8' currently installed).\n",
      "  final_data.to_excel('0729result_all.xlsx', index=False)\n"
     ]
    },
    {
     "name": "stdout",
     "output_type": "stream",
     "text": [
      "全部处理完成，已保存0729result_all.xlsx\n"
     ]
    }
   ],
   "source": [
    "import json\n",
    "from tencentcloud.common import credential\n",
    "from tencentcloud.common.profile.client_profile import ClientProfile\n",
    "from tencentcloud.common.profile.http_profile import HttpProfile\n",
    "from tencentcloud.common.exception.tencent_cloud_sdk_exception import TencentCloudSDKException\n",
    "from tencentcloud.nlp.v20190408 import nlp_client, models\n",
    "import pandas as pd\n",
    "import numpy as np\n",
    "import os\n",
    "import time\n",
    "\n",
    "def get_sentiment(text):\n",
    "    try:\n",
    "        cred = credential.Credential(\"腾讯云账户\")\n",
    "        httpProfile = HttpProfile()\n",
    "        httpProfile.endpoint = \"nlp.tencentcloudapi.com\"\n",
    "        clientProfile = ClientProfile()\n",
    "        clientProfile.httpProfile = httpProfile\n",
    "        client = nlp_client.NlpClient(cred, \"ap-guangzhou\", clientProfile)\n",
    "        req = models.AnalyzeSentimentRequest()\n",
    "        params = {\n",
    "            \"Text\": text,\n",
    "            \"Flag\": 4,\n",
    "            \"Mode\": \"2class\"\n",
    "        }\n",
    "        req.from_json_string(json.dumps(params))\n",
    "        resp = client.AnalyzeSentiment(req)\n",
    "        j = json.loads(resp.to_json_string())\n",
    "        return [j['Positive'], j['Negative'], j['Sentiment']]\n",
    "    except TencentCloudSDKException as err:\n",
    "        print(err)\n",
    "        return [None, None, None]\n",
    "\n",
    "txt_path = \"/Users/elsa/Desktop/爬虫学习/0729-多语种词云搭建LastDay/多语种词云搭建LastDay\\内容分割_out.txt\"\n",
    "with open(txt_path, 'r', encoding='utf-8') as f:\n",
    "    lines = [line.strip() for line in f if line.strip()]\n",
    "\n",
    "os.chdir(\"/Users/elsa/Desktop/爬虫学习/0729-多语种词云搭建LastDay\")\n",
    "data = pd.DataFrame(lines, columns=['内容'])\n",
    "\n",
    "# 分批处理\n",
    "total = len(data)\n",
    "batch_size = total // 20 + (1 if total % 20 else 0)\n",
    "\n",
    "results = []\n",
    "for i in range(20):\n",
    "    start = i * batch_size\n",
    "    end = min((i + 1) * batch_size, total)\n",
    "    batch = data.iloc[start:end].copy()\n",
    "    print(f\"\\n正在处理第{i+1}/20批, 行数: {start}~{end-1}\")\n",
    "    batch['情绪极性'] = batch['内容'].apply(get_sentiment)\n",
    "    # 拆分情绪极性\n",
    "    batch[['积极', '消极', '情绪极性']] = batch['情绪极性'].apply(pd.Series)\n",
    "    batch = batch.drop('情绪极性', axis=1)\n",
    "    results.append(batch)\n",
    "    print(batch.head())\n",
    "    # 可选：每批保存一次\n",
    "    batch.to_excel(f'0729result_part{i+1}.xlsx', index=False)\n",
    "    print(f\"第{i+1}批已保存，累计处理{end}行。\")\n",
    "    # 可选：防止接口限流，适当休眠\n",
    "    time.sleep(2)\n",
    "\n",
    "# 合并所有结果\n",
    "final_data = pd.concat(results, ignore_index=True)\n",
    "final_data.to_excel('0729result_all.xlsx', index=False)\n",
    "print(\"全部处理完成，已保存0729result_all.xlsx\")"
   ]
  },
  {
   "cell_type": "markdown",
   "id": "458702f4",
   "metadata": {},
   "source": [
    "# 四. 感官分类\n",
    "将各条评论归入感官类别（视听嗅触味）以及不同的要素中（hearing中的人声/植物声/动物声/播报声等）"
   ]
  },
  {
   "cell_type": "code",
   "execution_count": null,
   "id": "df71f2c6",
   "metadata": {},
   "outputs": [
    {
     "name": "stdout",
     "output_type": "stream",
     "text": [
      "转换完成，结果已保存到 output.xlsx\n"
     ]
    },
    {
     "name": "stderr",
     "output_type": "stream",
     "text": [
      "<ipython-input-1-244f6b1ac4b7>:61: UserWarning: Pandas requires version '1.4.3' or newer of 'xlsxwriter' (version '1.3.8' currently installed).\n",
      "  df.to_excel(\"0801tss_output.xlsx\", index=False)\n"
     ]
    }
   ],
   "source": [
    "\n",
    "import pandas as pd\n",
    "\n",
    "# 读取 Excel 文件\n",
    "file_path = r'/Users/elsa/Desktop/工作流/最新_语义分析/基于社交媒体数据的城市公园景感评价/代码/ipynb格式的代码/【任务17】基于社交媒体数据的城市公园景感评价/草稿/result.xlsx'\n",
    "# file_path = r\"C:\\Users\\ASUS\\Desktop\\python folder\\基于社交媒体数据的城市公园景感评价\\数据\\基于社交媒体数据的城市公园景感评价_课程数据\\【任务17】基于社交媒体数据的城市公园景感评价\\关卡4\\情绪分类\\草稿\\result.xlsx\"  # 替换为你的文件路径\n",
    "df = pd.read_excel(file_path)\n",
    "\n",
    "# 三层字典\n",
    "senses_dict = {\n",
    "    \"Vision\": {\n",
    "        \"人群干扰\": [\"人山人海\", \"人群\", \"密集\", \"人头攒动\", \"拥挤\", \"人数\", \"凑热闹\", \"拥堵\"],\n",
    "        \"观赏植物\": [\"樱花\", \"盛开\", \"赏花\", \"桃花\", \"荷花\", \"鲁冰花\", \"开花\", \"海棠\", \"花朵\", \"柳树\", \"腊梅\", \"花骨朵\", \"花海\", \"梨花\", \"花儿\", \"迎春花\", \"花树\", \"花丛\", \"银杏\", \"莲叶\"],\n",
    "        \"观赏水景\": [\"划船\", \"游船\", \"湖面\", \"湖边\", \"湖水\", \"河边\", \"八一湖\", \"湖上\", \"西湖\", \"湖中\", \"岸边\", \"租船\", \"东湖\", \"小湖\"],\n",
    "        \"观赏动物\": [\"鸳鸯\", \"鸭子\", \"小鸭子\", \"野鸭\", \"鸽子\", \"水鸟\", \"动物\", \"野鸭子\", \"小猫\"],\n",
    "        \"观赏道路景观\": [\"风景优美\", \"雪景\", \"雪场\", \"盛景\", \"花展\", \"全园\", \"美轮美奂\", \"风景秀丽\", \"雪地\", \"云霞\", \"花红柳绿\", \"风景如画\", \"山坡\", \"春景\", \"烟花\", \"自然风光\", \"大雪\", \"云彩\", \"余晖\", \"樱园\", \"阴霾\", \"蔚为壮观\", \"公园\", \"玉渊潭\", \"玉渊潭公园\", \"美景\", \"园区\", \"景点\", \"设施\", \"景象\", \"景观\", \"景美\", \"公园\", \"玉渊潭公园\", \"树木\", \"大道\"],\n",
    "        \"景观可识别性\": [\"门口\", \"西门\", \"停车场\", \"中央电视塔\", \"南门\", \"电视塔\", \"东门\", \"世纪坛\", \"军事博物馆\", \"园子\", \"拱桥\", \"钓鱼台\", \"大门\", \"军博\", \"中央电视台\", \"中华世纪坛\", \"冰场\", \"滑梯\", \"碰碰车\", \"颐和园\", \"永定河\", \"天桥\", \"乐园\", \"三里河\", \"香山\", \"阜成门\", \"护城河\", \"木樨地\"]\n",
    "    },\n",
    "    \"Hearing\": {\n",
    "        \"人声\": [\"热闹\", \"唱歌\", \"嬉戏\", \"喧闹\", \"安静\"],\n",
    "        \"植物声\": [],\n",
    "        \"动物声\": [\"鸟叫\"],\n",
    "        \"播报声\": [\"喇叭\", \"广播\"]\n",
    "    },\n",
    "    \"Smell\": {\n",
    "        \"植物气息\": [\"气息\", \"新鲜\"]\n",
    "    },\n",
    "    \"Touch\": {\n",
    "        \"感知阳光\": [\"阳光\", \"暖和\", \"温暖\", \"阳光明媚\", \"蓝天白云\", \"光线\", \"晴朗\", \"晒太阳\"],\n",
    "        \"感知风\": [\"春风\", \"微风\", \"吹风\", \"风儿\", \"凉快\", \"风吹\", \"秋高气爽\", \"凉风\"],\n",
    "        \"动物接触\": [\"喂鸭\"],\n",
    "        \"路面接触\": [\"游园\", \"溜达\", \"跑步\", \"遛弯\", \"踏青\", \"踏春\", \"散步\", \"路过\", \"游览\", \"春游\", \"走路\", \"步行\", \"逛公园\", \"大步\", \"溜溜弯\", \"散散步\", \"直奔\"]\n",
    "    },\n",
    "    \"Taste\": {\n",
    "        \"食品售卖\": [\"冰淇淋\", \"冰激凌\", \"好吃\", \"樱花雪糕\", \"樱花冰棍\", \"哈根达斯\", \"小吃\", \"草莓\", \"冰棍\", \"雪糕\", \"水蜜桃\", \"麦当劳\", \"冰棍儿\", \"商店\", \"北冰洋\", \"棒棒糖\", \"零食\", \"巧克力\"]\n",
    "    }\n",
    "}\n",
    "\n",
    "# 初始化新列\n",
    "df[\"感官\"] = \"\"\n",
    "df[\"要素\"] = \"\"\n",
    "\n",
    "# 遍历每一行的评论，匹配字典中的关键词\n",
    "for index, row in df.iterrows():\n",
    "    comment = str(row[\"评论\"])  # 取评论内容并转换为字符串\n",
    "    found_sense = None\n",
    "    found_element = None\n",
    "\n",
    "    for sense, elements in senses_dict.items():\n",
    "        for element, keywords in elements.items():\n",
    "            if any(keyword in comment for keyword in keywords):\n",
    "                found_sense = sense\n",
    "                found_element = element\n",
    "                break  # 找到一个匹配项后就退出内层循环\n",
    "        if found_sense:  # 如果找到匹配项，则跳出外层循环\n",
    "            break\n",
    "\n",
    "    df.at[index, \"感官\"] = found_sense if found_sense else \"未分类\"\n",
    "    df.at[index, \"要素\"] = found_element if found_element else \"未分类\"\n",
    "\n",
    "# 保存到新 Excel 文件\n",
    "df.to_excel(\"0801tss_output.xlsx\", index=False)\n",
    "\n",
    "print(\"转换完成，结果已保存到 output.xlsx\")\n"
   ]
  }
 ],
 "metadata": {
  "kernelspec": {
   "display_name": "base",
   "language": "python",
   "name": "python3"
  },
  "language_info": {
   "codemirror_mode": {
    "name": "ipython",
    "version": 3
   },
   "file_extension": ".py",
   "mimetype": "text/x-python",
   "name": "python",
   "nbconvert_exporter": "python",
   "pygments_lexer": "ipython3",
   "version": "3.8.8"
  }
 },
 "nbformat": 4,
 "nbformat_minor": 5
}
